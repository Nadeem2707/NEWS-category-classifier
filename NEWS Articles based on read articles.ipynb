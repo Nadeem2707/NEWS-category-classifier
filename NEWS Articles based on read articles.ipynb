{
 "cells": [
  {
   "cell_type": "markdown",
   "metadata": {},
   "source": [
    "### Importing necessary Libraries"
   ]
  },
  {
   "cell_type": "code",
   "execution_count": 89,
   "metadata": {},
   "outputs": [],
   "source": [
    "import numpy as np\n",
    "import pandas as pd\n",
    "\n",
    "import os\n",
    "import math\n",
    "import time\n",
    "\n",
    "import matplotlib.pyplot as plt\n",
    "import seaborn as sns\n",
    "import plotly.figure_factory as ff\n",
    "import plotly.graph_objects as go\n",
    "import plotly.express as px\n",
    "\n",
    "# Below libraries are for text processing using NLTK\n",
    "from nltk.corpus import stopwords\n",
    "from nltk.tokenize import word_tokenize\n",
    "from nltk.stem import WordNetLemmatizer\n",
    "\n",
    "# Below libraries are for feature representation using sklearn\n",
    "from sklearn.feature_extraction.text import CountVectorizer\n",
    "from sklearn.feature_extraction.text import TfidfVectorizer\n",
    "\n",
    "# Below libraries are for similarity matrices using sklearn\n",
    "from sklearn.metrics.pairwise import cosine_similarity  \n",
    "from sklearn.metrics import pairwise_distances"
   ]
  },
  {
   "cell_type": "code",
   "execution_count": 90,
   "metadata": {},
   "outputs": [],
   "source": [
    "\n",
    "import warnings\n",
    "warnings.filterwarnings(\"ignore\")"
   ]
  },
  {
   "cell_type": "markdown",
   "metadata": {},
   "source": [
    "### Loading Data"
   ]
  },
  {
   "cell_type": "code",
   "execution_count": 91,
   "metadata": {},
   "outputs": [],
   "source": [
    "news_articles = pd.read_json(\"News_Category_Dataset_v2.json\", lines = True)"
   ]
  },
  {
   "cell_type": "code",
   "execution_count": 92,
   "metadata": {},
   "outputs": [
    {
     "name": "stdout",
     "output_type": "stream",
     "text": [
      "<class 'pandas.core.frame.DataFrame'>\n",
      "RangeIndex: 200853 entries, 0 to 200852\n",
      "Data columns (total 6 columns):\n",
      " #   Column             Non-Null Count   Dtype         \n",
      "---  ------             --------------   -----         \n",
      " 0   category           200853 non-null  object        \n",
      " 1   headline           200853 non-null  object        \n",
      " 2   authors            200853 non-null  object        \n",
      " 3   link               200853 non-null  object        \n",
      " 4   short_description  200853 non-null  object        \n",
      " 5   date               200853 non-null  datetime64[ns]\n",
      "dtypes: datetime64[ns](1), object(5)\n",
      "memory usage: 9.2+ MB\n"
     ]
    }
   ],
   "source": [
    "news_articles.info()"
   ]
  },
  {
   "cell_type": "markdown",
   "metadata": {},
   "source": [
    "The dataset contains about two million records of six different features"
   ]
  },
  {
   "cell_type": "code",
   "execution_count": 93,
   "metadata": {},
   "outputs": [
    {
     "data": {
      "text/html": [
       "<div>\n",
       "<style scoped>\n",
       "    .dataframe tbody tr th:only-of-type {\n",
       "        vertical-align: middle;\n",
       "    }\n",
       "\n",
       "    .dataframe tbody tr th {\n",
       "        vertical-align: top;\n",
       "    }\n",
       "\n",
       "    .dataframe thead th {\n",
       "        text-align: right;\n",
       "    }\n",
       "</style>\n",
       "<table border=\"1\" class=\"dataframe\">\n",
       "  <thead>\n",
       "    <tr style=\"text-align: right;\">\n",
       "      <th></th>\n",
       "      <th>category</th>\n",
       "      <th>headline</th>\n",
       "      <th>authors</th>\n",
       "      <th>link</th>\n",
       "      <th>short_description</th>\n",
       "      <th>date</th>\n",
       "    </tr>\n",
       "  </thead>\n",
       "  <tbody>\n",
       "    <tr>\n",
       "      <th>0</th>\n",
       "      <td>CRIME</td>\n",
       "      <td>There Were 2 Mass Shootings In Texas Last Week, But Only 1 On TV</td>\n",
       "      <td>Melissa Jeltsen</td>\n",
       "      <td>https://www.huffingtonpost.com/entry/texas-amanda-painter-mass-shooting_us_5b081ab4e4b0802d69caad89</td>\n",
       "      <td>She left her husband. He killed their children. Just another day in America.</td>\n",
       "      <td>2018-05-26</td>\n",
       "    </tr>\n",
       "    <tr>\n",
       "      <th>1</th>\n",
       "      <td>ENTERTAINMENT</td>\n",
       "      <td>Will Smith Joins Diplo And Nicky Jam For The 2018 World Cup's Official Song</td>\n",
       "      <td>Andy McDonald</td>\n",
       "      <td>https://www.huffingtonpost.com/entry/will-smith-joins-diplo-and-nicky-jam-for-the-official-2018-world-cup-song_us_5b09726fe4b0fdb2aa541201</td>\n",
       "      <td>Of course it has a song.</td>\n",
       "      <td>2018-05-26</td>\n",
       "    </tr>\n",
       "    <tr>\n",
       "      <th>2</th>\n",
       "      <td>ENTERTAINMENT</td>\n",
       "      <td>Hugh Grant Marries For The First Time At Age 57</td>\n",
       "      <td>Ron Dicker</td>\n",
       "      <td>https://www.huffingtonpost.com/entry/hugh-grant-marries_us_5b09212ce4b0568a880b9a8c</td>\n",
       "      <td>The actor and his longtime girlfriend Anna Eberstein tied the knot in a civil ceremony.</td>\n",
       "      <td>2018-05-26</td>\n",
       "    </tr>\n",
       "    <tr>\n",
       "      <th>3</th>\n",
       "      <td>ENTERTAINMENT</td>\n",
       "      <td>Jim Carrey Blasts 'Castrato' Adam Schiff And Democrats In New Artwork</td>\n",
       "      <td>Ron Dicker</td>\n",
       "      <td>https://www.huffingtonpost.com/entry/jim-carrey-adam-schiff-democrats_us_5b0950e8e4b0fdb2aa53e675</td>\n",
       "      <td>The actor gives Dems an ass-kicking for not fighting hard enough against Donald Trump.</td>\n",
       "      <td>2018-05-26</td>\n",
       "    </tr>\n",
       "    <tr>\n",
       "      <th>4</th>\n",
       "      <td>ENTERTAINMENT</td>\n",
       "      <td>Julianna Margulies Uses Donald Trump Poop Bags To Pick Up After Her Dog</td>\n",
       "      <td>Ron Dicker</td>\n",
       "      <td>https://www.huffingtonpost.com/entry/julianna-margulies-trump-poop-bag_us_5b093ec2e4b0fdb2aa53df70</td>\n",
       "      <td>The \"Dietland\" actress said using the bags is a \"really cathartic, therapeutic moment.\"</td>\n",
       "      <td>2018-05-26</td>\n",
       "    </tr>\n",
       "  </tbody>\n",
       "</table>\n",
       "</div>"
      ],
      "text/plain": [
       "        category  \\\n",
       "0  CRIME           \n",
       "1  ENTERTAINMENT   \n",
       "2  ENTERTAINMENT   \n",
       "3  ENTERTAINMENT   \n",
       "4  ENTERTAINMENT   \n",
       "\n",
       "                                                                      headline  \\\n",
       "0  There Were 2 Mass Shootings In Texas Last Week, But Only 1 On TV              \n",
       "1  Will Smith Joins Diplo And Nicky Jam For The 2018 World Cup's Official Song   \n",
       "2  Hugh Grant Marries For The First Time At Age 57                               \n",
       "3  Jim Carrey Blasts 'Castrato' Adam Schiff And Democrats In New Artwork         \n",
       "4  Julianna Margulies Uses Donald Trump Poop Bags To Pick Up After Her Dog       \n",
       "\n",
       "           authors  \\\n",
       "0  Melissa Jeltsen   \n",
       "1  Andy McDonald     \n",
       "2  Ron Dicker        \n",
       "3  Ron Dicker        \n",
       "4  Ron Dicker        \n",
       "\n",
       "                                                                                                                                         link  \\\n",
       "0  https://www.huffingtonpost.com/entry/texas-amanda-painter-mass-shooting_us_5b081ab4e4b0802d69caad89                                          \n",
       "1  https://www.huffingtonpost.com/entry/will-smith-joins-diplo-and-nicky-jam-for-the-official-2018-world-cup-song_us_5b09726fe4b0fdb2aa541201   \n",
       "2  https://www.huffingtonpost.com/entry/hugh-grant-marries_us_5b09212ce4b0568a880b9a8c                                                          \n",
       "3  https://www.huffingtonpost.com/entry/jim-carrey-adam-schiff-democrats_us_5b0950e8e4b0fdb2aa53e675                                            \n",
       "4  https://www.huffingtonpost.com/entry/julianna-margulies-trump-poop-bag_us_5b093ec2e4b0fdb2aa53df70                                           \n",
       "\n",
       "                                                                         short_description  \\\n",
       "0  She left her husband. He killed their children. Just another day in America.              \n",
       "1  Of course it has a song.                                                                  \n",
       "2  The actor and his longtime girlfriend Anna Eberstein tied the knot in a civil ceremony.   \n",
       "3  The actor gives Dems an ass-kicking for not fighting hard enough against Donald Trump.    \n",
       "4  The \"Dietland\" actress said using the bags is a \"really cathartic, therapeutic moment.\"   \n",
       "\n",
       "        date  \n",
       "0 2018-05-26  \n",
       "1 2018-05-26  \n",
       "2 2018-05-26  \n",
       "3 2018-05-26  \n",
       "4 2018-05-26  "
      ]
     },
     "execution_count": 93,
     "metadata": {},
     "output_type": "execute_result"
    }
   ],
   "source": [
    "news_articles.head()"
   ]
  },
  {
   "cell_type": "markdown",
   "metadata": {},
   "source": [
    "### Data Preprecessing"
   ]
  },
  {
   "cell_type": "markdown",
   "metadata": {},
   "source": [
    "#### 1 Featuring Only the Articles from 2018"
   ]
  },
  {
   "cell_type": "markdown",
   "metadata": {},
   "source": [
    "- Since the dataset size is quite large so processing through entire dataset may consume too much time,To retrain again so we are only considering the latest articles from the year 2018"
   ]
  },
  {
   "cell_type": "code",
   "execution_count": 94,
   "metadata": {},
   "outputs": [],
   "source": [
    "news_articles = news_articles[news_articles['date'] >= pd.Timestamp(2018,1,1)]"
   ]
  },
  {
   "cell_type": "code",
   "execution_count": 95,
   "metadata": {},
   "outputs": [
    {
     "data": {
      "text/plain": [
       "(8583, 6)"
      ]
     },
     "execution_count": 95,
     "metadata": {},
     "output_type": "execute_result"
    }
   ],
   "source": [
    "news_articles.shape"
   ]
  },
  {
   "cell_type": "markdown",
   "metadata": {},
   "source": [
    "Now, We have total number of NEWS articles comes down to 8583"
   ]
  },
  {
   "cell_type": "markdown",
   "metadata": {},
   "source": [
    "#### 2 Removing the short headline Articles"
   ]
  },
  {
   "cell_type": "markdown",
   "metadata": {},
   "source": [
    "- After stop words removal from headline, the articles with very short headline may become blank, So lets remove all the articles with less then (<5) in the headline"
   ]
  },
  {
   "cell_type": "code",
   "execution_count": 96,
   "metadata": {},
   "outputs": [],
   "source": [
    "news_articles = news_articles[news_articles['headline'].apply(lambda x: len(x.split())>5)]"
   ]
  },
  {
   "cell_type": "code",
   "execution_count": 97,
   "metadata": {},
   "outputs": [
    {
     "name": "stdout",
     "output_type": "stream",
     "text": [
      "Total Number of articles after Removal of headlines with short title: 8530\n"
     ]
    }
   ],
   "source": [
    "print(\"Total Number of articles after Removal of headlines with short title:\", news_articles.shape[0])"
   ]
  },
  {
   "cell_type": "markdown",
   "metadata": {},
   "source": [
    "#### 3 Checking and removing all the duplicates"
   ]
  },
  {
   "cell_type": "markdown",
   "metadata": {},
   "source": [
    "- Some articles are same, exactly as headlines, so lets remove all such articles"
   ]
  },
  {
   "cell_type": "code",
   "execution_count": 98,
   "metadata": {},
   "outputs": [
    {
     "name": "stdout",
     "output_type": "stream",
     "text": [
      "Total number of articles after removing duplicates: 8485\n"
     ]
    }
   ],
   "source": [
    "news_articles.sort_values('headline',inplace=True, ascending=False)\n",
    "duplicated_articles_series = news_articles.duplicated('headline', keep = False)\n",
    "news_articles = news_articles[~duplicated_articles_series]\n",
    "print(\"Total number of articles after removing duplicates:\", news_articles.shape[0])"
   ]
  },
  {
   "cell_type": "markdown",
   "metadata": {},
   "source": [
    "#### 4. Checking for missing values"
   ]
  },
  {
   "cell_type": "code",
   "execution_count": 99,
   "metadata": {},
   "outputs": [
    {
     "data": {
      "text/plain": [
       "category             0\n",
       "headline             0\n",
       "authors              0\n",
       "link                 0\n",
       "short_description    0\n",
       "date                 0\n",
       "dtype: int64"
      ]
     },
     "execution_count": 99,
     "metadata": {},
     "output_type": "execute_result"
    }
   ],
   "source": [
    "news_articles.isna().sum()"
   ]
  },
  {
   "cell_type": "markdown",
   "metadata": {},
   "source": [
    "### Basib data Exploration"
   ]
  },
  {
   "cell_type": "markdown",
   "metadata": {},
   "source": [
    "#### 1. Basic statistics- Number of articles, authors, categories"
   ]
  },
  {
   "cell_type": "code",
   "execution_count": 100,
   "metadata": {},
   "outputs": [
    {
     "name": "stdout",
     "output_type": "stream",
     "text": [
      "Total Number of ARTICLES: 8485\n",
      "Total Number of AUTHORS: 892\n",
      "Total Number of Unique CATEGORIES: 26\n"
     ]
    }
   ],
   "source": [
    "print(\"Total Number of ARTICLES:\", news_articles.shape[0])\n",
    "\n",
    "print(\"Total Number of AUTHORS:\", news_articles['authors'].nunique())\n",
    "\n",
    "print(\"Total Number of Unique CATEGORIES:\", news_articles['category'].nunique())"
   ]
  },
  {
   "cell_type": "markdown",
   "metadata": {},
   "source": [
    "#### 2. Distribution of Articles - CategoryWise"
   ]
  },
  {
   "cell_type": "code",
   "execution_count": 101,
   "metadata": {},
   "outputs": [
    {
     "data": {
      "application/vnd.plotly.v1+json": {
       "config": {
        "plotlyServerURL": "https://plot.ly"
       },
       "data": [
        {
         "type": "bar",
         "x": [
          "POLITICS",
          "ENTERTAINMENT",
          "WORLD NEWS",
          "QUEER VOICES",
          "COMEDY",
          "BLACK VOICES",
          "SPORTS",
          "MEDIA",
          "WOMEN",
          "WEIRD NEWS",
          "CRIME",
          "BUSINESS",
          "LATINO VOICES",
          "IMPACT",
          "TRAVEL",
          "RELIGION",
          "TECH",
          "SCIENCE",
          "STYLE",
          "PARENTS",
          "EDUCATION",
          "GREEN",
          "HEALTHY LIVING",
          "ARTS & CULTURE",
          "TASTE",
          "COLLEGE"
         ],
         "y": [
          3042,
          1699,
          557,
          451,
          443,
          406,
          364,
          290,
          226,
          205,
          170,
          85,
          83,
          73,
          72,
          63,
          53,
          40,
          34,
          32,
          31,
          28,
          15,
          13,
          9,
          1
         ]
        }
       ],
       "layout": {
        "height": 700,
        "template": {
         "data": {
          "bar": [
           {
            "error_x": {
             "color": "#2a3f5f"
            },
            "error_y": {
             "color": "#2a3f5f"
            },
            "marker": {
             "line": {
              "color": "#E5ECF6",
              "width": 0.5
             }
            },
            "type": "bar"
           }
          ],
          "barpolar": [
           {
            "marker": {
             "line": {
              "color": "#E5ECF6",
              "width": 0.5
             }
            },
            "type": "barpolar"
           }
          ],
          "carpet": [
           {
            "aaxis": {
             "endlinecolor": "#2a3f5f",
             "gridcolor": "white",
             "linecolor": "white",
             "minorgridcolor": "white",
             "startlinecolor": "#2a3f5f"
            },
            "baxis": {
             "endlinecolor": "#2a3f5f",
             "gridcolor": "white",
             "linecolor": "white",
             "minorgridcolor": "white",
             "startlinecolor": "#2a3f5f"
            },
            "type": "carpet"
           }
          ],
          "choropleth": [
           {
            "colorbar": {
             "outlinewidth": 0,
             "ticks": ""
            },
            "type": "choropleth"
           }
          ],
          "contour": [
           {
            "colorbar": {
             "outlinewidth": 0,
             "ticks": ""
            },
            "colorscale": [
             [
              0,
              "#0d0887"
             ],
             [
              0.1111111111111111,
              "#46039f"
             ],
             [
              0.2222222222222222,
              "#7201a8"
             ],
             [
              0.3333333333333333,
              "#9c179e"
             ],
             [
              0.4444444444444444,
              "#bd3786"
             ],
             [
              0.5555555555555556,
              "#d8576b"
             ],
             [
              0.6666666666666666,
              "#ed7953"
             ],
             [
              0.7777777777777778,
              "#fb9f3a"
             ],
             [
              0.8888888888888888,
              "#fdca26"
             ],
             [
              1,
              "#f0f921"
             ]
            ],
            "type": "contour"
           }
          ],
          "contourcarpet": [
           {
            "colorbar": {
             "outlinewidth": 0,
             "ticks": ""
            },
            "type": "contourcarpet"
           }
          ],
          "heatmap": [
           {
            "colorbar": {
             "outlinewidth": 0,
             "ticks": ""
            },
            "colorscale": [
             [
              0,
              "#0d0887"
             ],
             [
              0.1111111111111111,
              "#46039f"
             ],
             [
              0.2222222222222222,
              "#7201a8"
             ],
             [
              0.3333333333333333,
              "#9c179e"
             ],
             [
              0.4444444444444444,
              "#bd3786"
             ],
             [
              0.5555555555555556,
              "#d8576b"
             ],
             [
              0.6666666666666666,
              "#ed7953"
             ],
             [
              0.7777777777777778,
              "#fb9f3a"
             ],
             [
              0.8888888888888888,
              "#fdca26"
             ],
             [
              1,
              "#f0f921"
             ]
            ],
            "type": "heatmap"
           }
          ],
          "heatmapgl": [
           {
            "colorbar": {
             "outlinewidth": 0,
             "ticks": ""
            },
            "colorscale": [
             [
              0,
              "#0d0887"
             ],
             [
              0.1111111111111111,
              "#46039f"
             ],
             [
              0.2222222222222222,
              "#7201a8"
             ],
             [
              0.3333333333333333,
              "#9c179e"
             ],
             [
              0.4444444444444444,
              "#bd3786"
             ],
             [
              0.5555555555555556,
              "#d8576b"
             ],
             [
              0.6666666666666666,
              "#ed7953"
             ],
             [
              0.7777777777777778,
              "#fb9f3a"
             ],
             [
              0.8888888888888888,
              "#fdca26"
             ],
             [
              1,
              "#f0f921"
             ]
            ],
            "type": "heatmapgl"
           }
          ],
          "histogram": [
           {
            "marker": {
             "colorbar": {
              "outlinewidth": 0,
              "ticks": ""
             }
            },
            "type": "histogram"
           }
          ],
          "histogram2d": [
           {
            "colorbar": {
             "outlinewidth": 0,
             "ticks": ""
            },
            "colorscale": [
             [
              0,
              "#0d0887"
             ],
             [
              0.1111111111111111,
              "#46039f"
             ],
             [
              0.2222222222222222,
              "#7201a8"
             ],
             [
              0.3333333333333333,
              "#9c179e"
             ],
             [
              0.4444444444444444,
              "#bd3786"
             ],
             [
              0.5555555555555556,
              "#d8576b"
             ],
             [
              0.6666666666666666,
              "#ed7953"
             ],
             [
              0.7777777777777778,
              "#fb9f3a"
             ],
             [
              0.8888888888888888,
              "#fdca26"
             ],
             [
              1,
              "#f0f921"
             ]
            ],
            "type": "histogram2d"
           }
          ],
          "histogram2dcontour": [
           {
            "colorbar": {
             "outlinewidth": 0,
             "ticks": ""
            },
            "colorscale": [
             [
              0,
              "#0d0887"
             ],
             [
              0.1111111111111111,
              "#46039f"
             ],
             [
              0.2222222222222222,
              "#7201a8"
             ],
             [
              0.3333333333333333,
              "#9c179e"
             ],
             [
              0.4444444444444444,
              "#bd3786"
             ],
             [
              0.5555555555555556,
              "#d8576b"
             ],
             [
              0.6666666666666666,
              "#ed7953"
             ],
             [
              0.7777777777777778,
              "#fb9f3a"
             ],
             [
              0.8888888888888888,
              "#fdca26"
             ],
             [
              1,
              "#f0f921"
             ]
            ],
            "type": "histogram2dcontour"
           }
          ],
          "mesh3d": [
           {
            "colorbar": {
             "outlinewidth": 0,
             "ticks": ""
            },
            "type": "mesh3d"
           }
          ],
          "parcoords": [
           {
            "line": {
             "colorbar": {
              "outlinewidth": 0,
              "ticks": ""
             }
            },
            "type": "parcoords"
           }
          ],
          "pie": [
           {
            "automargin": true,
            "type": "pie"
           }
          ],
          "scatter": [
           {
            "marker": {
             "colorbar": {
              "outlinewidth": 0,
              "ticks": ""
             }
            },
            "type": "scatter"
           }
          ],
          "scatter3d": [
           {
            "line": {
             "colorbar": {
              "outlinewidth": 0,
              "ticks": ""
             }
            },
            "marker": {
             "colorbar": {
              "outlinewidth": 0,
              "ticks": ""
             }
            },
            "type": "scatter3d"
           }
          ],
          "scattercarpet": [
           {
            "marker": {
             "colorbar": {
              "outlinewidth": 0,
              "ticks": ""
             }
            },
            "type": "scattercarpet"
           }
          ],
          "scattergeo": [
           {
            "marker": {
             "colorbar": {
              "outlinewidth": 0,
              "ticks": ""
             }
            },
            "type": "scattergeo"
           }
          ],
          "scattergl": [
           {
            "marker": {
             "colorbar": {
              "outlinewidth": 0,
              "ticks": ""
             }
            },
            "type": "scattergl"
           }
          ],
          "scattermapbox": [
           {
            "marker": {
             "colorbar": {
              "outlinewidth": 0,
              "ticks": ""
             }
            },
            "type": "scattermapbox"
           }
          ],
          "scatterpolar": [
           {
            "marker": {
             "colorbar": {
              "outlinewidth": 0,
              "ticks": ""
             }
            },
            "type": "scatterpolar"
           }
          ],
          "scatterpolargl": [
           {
            "marker": {
             "colorbar": {
              "outlinewidth": 0,
              "ticks": ""
             }
            },
            "type": "scatterpolargl"
           }
          ],
          "scatterternary": [
           {
            "marker": {
             "colorbar": {
              "outlinewidth": 0,
              "ticks": ""
             }
            },
            "type": "scatterternary"
           }
          ],
          "surface": [
           {
            "colorbar": {
             "outlinewidth": 0,
             "ticks": ""
            },
            "colorscale": [
             [
              0,
              "#0d0887"
             ],
             [
              0.1111111111111111,
              "#46039f"
             ],
             [
              0.2222222222222222,
              "#7201a8"
             ],
             [
              0.3333333333333333,
              "#9c179e"
             ],
             [
              0.4444444444444444,
              "#bd3786"
             ],
             [
              0.5555555555555556,
              "#d8576b"
             ],
             [
              0.6666666666666666,
              "#ed7953"
             ],
             [
              0.7777777777777778,
              "#fb9f3a"
             ],
             [
              0.8888888888888888,
              "#fdca26"
             ],
             [
              1,
              "#f0f921"
             ]
            ],
            "type": "surface"
           }
          ],
          "table": [
           {
            "cells": {
             "fill": {
              "color": "#EBF0F8"
             },
             "line": {
              "color": "white"
             }
            },
            "header": {
             "fill": {
              "color": "#C8D4E3"
             },
             "line": {
              "color": "white"
             }
            },
            "type": "table"
           }
          ]
         },
         "layout": {
          "annotationdefaults": {
           "arrowcolor": "#2a3f5f",
           "arrowhead": 0,
           "arrowwidth": 1
          },
          "coloraxis": {
           "colorbar": {
            "outlinewidth": 0,
            "ticks": ""
           }
          },
          "colorscale": {
           "diverging": [
            [
             0,
             "#8e0152"
            ],
            [
             0.1,
             "#c51b7d"
            ],
            [
             0.2,
             "#de77ae"
            ],
            [
             0.3,
             "#f1b6da"
            ],
            [
             0.4,
             "#fde0ef"
            ],
            [
             0.5,
             "#f7f7f7"
            ],
            [
             0.6,
             "#e6f5d0"
            ],
            [
             0.7,
             "#b8e186"
            ],
            [
             0.8,
             "#7fbc41"
            ],
            [
             0.9,
             "#4d9221"
            ],
            [
             1,
             "#276419"
            ]
           ],
           "sequential": [
            [
             0,
             "#0d0887"
            ],
            [
             0.1111111111111111,
             "#46039f"
            ],
            [
             0.2222222222222222,
             "#7201a8"
            ],
            [
             0.3333333333333333,
             "#9c179e"
            ],
            [
             0.4444444444444444,
             "#bd3786"
            ],
            [
             0.5555555555555556,
             "#d8576b"
            ],
            [
             0.6666666666666666,
             "#ed7953"
            ],
            [
             0.7777777777777778,
             "#fb9f3a"
            ],
            [
             0.8888888888888888,
             "#fdca26"
            ],
            [
             1,
             "#f0f921"
            ]
           ],
           "sequentialminus": [
            [
             0,
             "#0d0887"
            ],
            [
             0.1111111111111111,
             "#46039f"
            ],
            [
             0.2222222222222222,
             "#7201a8"
            ],
            [
             0.3333333333333333,
             "#9c179e"
            ],
            [
             0.4444444444444444,
             "#bd3786"
            ],
            [
             0.5555555555555556,
             "#d8576b"
            ],
            [
             0.6666666666666666,
             "#ed7953"
            ],
            [
             0.7777777777777778,
             "#fb9f3a"
            ],
            [
             0.8888888888888888,
             "#fdca26"
            ],
            [
             1,
             "#f0f921"
            ]
           ]
          },
          "colorway": [
           "#636efa",
           "#EF553B",
           "#00cc96",
           "#ab63fa",
           "#FFA15A",
           "#19d3f3",
           "#FF6692",
           "#B6E880",
           "#FF97FF",
           "#FECB52"
          ],
          "font": {
           "color": "#2a3f5f"
          },
          "geo": {
           "bgcolor": "white",
           "lakecolor": "white",
           "landcolor": "#E5ECF6",
           "showlakes": true,
           "showland": true,
           "subunitcolor": "white"
          },
          "hoverlabel": {
           "align": "left"
          },
          "hovermode": "closest",
          "mapbox": {
           "style": "light"
          },
          "paper_bgcolor": "white",
          "plot_bgcolor": "#E5ECF6",
          "polar": {
           "angularaxis": {
            "gridcolor": "white",
            "linecolor": "white",
            "ticks": ""
           },
           "bgcolor": "#E5ECF6",
           "radialaxis": {
            "gridcolor": "white",
            "linecolor": "white",
            "ticks": ""
           }
          },
          "scene": {
           "xaxis": {
            "backgroundcolor": "#E5ECF6",
            "gridcolor": "white",
            "gridwidth": 2,
            "linecolor": "white",
            "showbackground": true,
            "ticks": "",
            "zerolinecolor": "white"
           },
           "yaxis": {
            "backgroundcolor": "#E5ECF6",
            "gridcolor": "white",
            "gridwidth": 2,
            "linecolor": "white",
            "showbackground": true,
            "ticks": "",
            "zerolinecolor": "white"
           },
           "zaxis": {
            "backgroundcolor": "#E5ECF6",
            "gridcolor": "white",
            "gridwidth": 2,
            "linecolor": "white",
            "showbackground": true,
            "ticks": "",
            "zerolinecolor": "white"
           }
          },
          "shapedefaults": {
           "line": {
            "color": "#2a3f5f"
           }
          },
          "ternary": {
           "aaxis": {
            "gridcolor": "white",
            "linecolor": "white",
            "ticks": ""
           },
           "baxis": {
            "gridcolor": "white",
            "linecolor": "white",
            "ticks": ""
           },
           "bgcolor": "#E5ECF6",
           "caxis": {
            "gridcolor": "white",
            "linecolor": "white",
            "ticks": ""
           }
          },
          "title": {
           "x": 0.05
          },
          "xaxis": {
           "automargin": true,
           "gridcolor": "white",
           "linecolor": "white",
           "ticks": "",
           "title": {
            "standoff": 15
           },
           "zerolinecolor": "white",
           "zerolinewidth": 2
          },
          "yaxis": {
           "automargin": true,
           "gridcolor": "white",
           "linecolor": "white",
           "ticks": "",
           "title": {
            "standoff": 15
           },
           "zerolinecolor": "white",
           "zerolinewidth": 2
          }
         }
        },
        "title": {
         "text": "Distribution of articles category-wise",
         "x": 0.5,
         "xanchor": "center",
         "y": 0.9,
         "yanchor": "top"
        },
        "width": 800,
        "xaxis": {
         "title": {
          "text": "Category name"
         }
        },
        "yaxis": {
         "title": {
          "text": "Number of Articles"
         }
        }
       }
      },
      "text/html": [
       "<div>\n",
       "        \n",
       "        \n",
       "            <div id=\"4430a68e-b922-4b65-94c2-62cab98e114b\" class=\"plotly-graph-div\" style=\"height:700px; width:800px;\"></div>\n",
       "            <script type=\"text/javascript\">\n",
       "                require([\"plotly\"], function(Plotly) {\n",
       "                    window.PLOTLYENV=window.PLOTLYENV || {};\n",
       "                    \n",
       "                if (document.getElementById(\"4430a68e-b922-4b65-94c2-62cab98e114b\")) {\n",
       "                    Plotly.newPlot(\n",
       "                        '4430a68e-b922-4b65-94c2-62cab98e114b',\n",
       "                        [{\"type\": \"bar\", \"x\": [\"POLITICS\", \"ENTERTAINMENT\", \"WORLD NEWS\", \"QUEER VOICES\", \"COMEDY\", \"BLACK VOICES\", \"SPORTS\", \"MEDIA\", \"WOMEN\", \"WEIRD NEWS\", \"CRIME\", \"BUSINESS\", \"LATINO VOICES\", \"IMPACT\", \"TRAVEL\", \"RELIGION\", \"TECH\", \"SCIENCE\", \"STYLE\", \"PARENTS\", \"EDUCATION\", \"GREEN\", \"HEALTHY LIVING\", \"ARTS & CULTURE\", \"TASTE\", \"COLLEGE\"], \"y\": [3042, 1699, 557, 451, 443, 406, 364, 290, 226, 205, 170, 85, 83, 73, 72, 63, 53, 40, 34, 32, 31, 28, 15, 13, 9, 1]}],\n",
       "                        {\"height\": 700, \"template\": {\"data\": {\"bar\": [{\"error_x\": {\"color\": \"#2a3f5f\"}, \"error_y\": {\"color\": \"#2a3f5f\"}, \"marker\": {\"line\": {\"color\": \"#E5ECF6\", \"width\": 0.5}}, \"type\": \"bar\"}], \"barpolar\": [{\"marker\": {\"line\": {\"color\": \"#E5ECF6\", \"width\": 0.5}}, \"type\": \"barpolar\"}], \"carpet\": [{\"aaxis\": {\"endlinecolor\": \"#2a3f5f\", \"gridcolor\": \"white\", \"linecolor\": \"white\", \"minorgridcolor\": \"white\", \"startlinecolor\": \"#2a3f5f\"}, \"baxis\": {\"endlinecolor\": \"#2a3f5f\", \"gridcolor\": \"white\", \"linecolor\": \"white\", \"minorgridcolor\": \"white\", \"startlinecolor\": \"#2a3f5f\"}, \"type\": \"carpet\"}], \"choropleth\": [{\"colorbar\": {\"outlinewidth\": 0, \"ticks\": \"\"}, \"type\": \"choropleth\"}], \"contour\": [{\"colorbar\": {\"outlinewidth\": 0, \"ticks\": \"\"}, \"colorscale\": [[0.0, \"#0d0887\"], [0.1111111111111111, \"#46039f\"], [0.2222222222222222, \"#7201a8\"], [0.3333333333333333, \"#9c179e\"], [0.4444444444444444, \"#bd3786\"], [0.5555555555555556, \"#d8576b\"], [0.6666666666666666, \"#ed7953\"], [0.7777777777777778, \"#fb9f3a\"], [0.8888888888888888, \"#fdca26\"], [1.0, \"#f0f921\"]], \"type\": \"contour\"}], \"contourcarpet\": [{\"colorbar\": {\"outlinewidth\": 0, \"ticks\": \"\"}, \"type\": \"contourcarpet\"}], \"heatmap\": [{\"colorbar\": {\"outlinewidth\": 0, \"ticks\": \"\"}, \"colorscale\": [[0.0, \"#0d0887\"], [0.1111111111111111, \"#46039f\"], [0.2222222222222222, \"#7201a8\"], [0.3333333333333333, \"#9c179e\"], [0.4444444444444444, \"#bd3786\"], [0.5555555555555556, \"#d8576b\"], [0.6666666666666666, \"#ed7953\"], [0.7777777777777778, \"#fb9f3a\"], [0.8888888888888888, \"#fdca26\"], [1.0, \"#f0f921\"]], \"type\": \"heatmap\"}], \"heatmapgl\": [{\"colorbar\": {\"outlinewidth\": 0, \"ticks\": \"\"}, \"colorscale\": [[0.0, \"#0d0887\"], [0.1111111111111111, \"#46039f\"], [0.2222222222222222, \"#7201a8\"], [0.3333333333333333, \"#9c179e\"], [0.4444444444444444, \"#bd3786\"], [0.5555555555555556, \"#d8576b\"], [0.6666666666666666, \"#ed7953\"], [0.7777777777777778, \"#fb9f3a\"], [0.8888888888888888, \"#fdca26\"], [1.0, \"#f0f921\"]], \"type\": \"heatmapgl\"}], \"histogram\": [{\"marker\": {\"colorbar\": {\"outlinewidth\": 0, \"ticks\": \"\"}}, \"type\": \"histogram\"}], \"histogram2d\": [{\"colorbar\": {\"outlinewidth\": 0, \"ticks\": \"\"}, \"colorscale\": [[0.0, \"#0d0887\"], [0.1111111111111111, \"#46039f\"], [0.2222222222222222, \"#7201a8\"], [0.3333333333333333, \"#9c179e\"], [0.4444444444444444, \"#bd3786\"], [0.5555555555555556, \"#d8576b\"], [0.6666666666666666, \"#ed7953\"], [0.7777777777777778, \"#fb9f3a\"], [0.8888888888888888, \"#fdca26\"], [1.0, \"#f0f921\"]], \"type\": \"histogram2d\"}], \"histogram2dcontour\": [{\"colorbar\": {\"outlinewidth\": 0, \"ticks\": \"\"}, \"colorscale\": [[0.0, \"#0d0887\"], [0.1111111111111111, \"#46039f\"], [0.2222222222222222, \"#7201a8\"], [0.3333333333333333, \"#9c179e\"], [0.4444444444444444, \"#bd3786\"], [0.5555555555555556, \"#d8576b\"], [0.6666666666666666, \"#ed7953\"], [0.7777777777777778, \"#fb9f3a\"], [0.8888888888888888, \"#fdca26\"], [1.0, \"#f0f921\"]], \"type\": \"histogram2dcontour\"}], \"mesh3d\": [{\"colorbar\": {\"outlinewidth\": 0, \"ticks\": \"\"}, \"type\": \"mesh3d\"}], \"parcoords\": [{\"line\": {\"colorbar\": {\"outlinewidth\": 0, \"ticks\": \"\"}}, \"type\": \"parcoords\"}], \"pie\": [{\"automargin\": true, \"type\": \"pie\"}], \"scatter\": [{\"marker\": {\"colorbar\": {\"outlinewidth\": 0, \"ticks\": \"\"}}, \"type\": \"scatter\"}], \"scatter3d\": [{\"line\": {\"colorbar\": {\"outlinewidth\": 0, \"ticks\": \"\"}}, \"marker\": {\"colorbar\": {\"outlinewidth\": 0, \"ticks\": \"\"}}, \"type\": \"scatter3d\"}], \"scattercarpet\": [{\"marker\": {\"colorbar\": {\"outlinewidth\": 0, \"ticks\": \"\"}}, \"type\": \"scattercarpet\"}], \"scattergeo\": [{\"marker\": {\"colorbar\": {\"outlinewidth\": 0, \"ticks\": \"\"}}, \"type\": \"scattergeo\"}], \"scattergl\": [{\"marker\": {\"colorbar\": {\"outlinewidth\": 0, \"ticks\": \"\"}}, \"type\": \"scattergl\"}], \"scattermapbox\": [{\"marker\": {\"colorbar\": {\"outlinewidth\": 0, \"ticks\": \"\"}}, \"type\": \"scattermapbox\"}], \"scatterpolar\": [{\"marker\": {\"colorbar\": {\"outlinewidth\": 0, \"ticks\": \"\"}}, \"type\": \"scatterpolar\"}], \"scatterpolargl\": [{\"marker\": {\"colorbar\": {\"outlinewidth\": 0, \"ticks\": \"\"}}, \"type\": \"scatterpolargl\"}], \"scatterternary\": [{\"marker\": {\"colorbar\": {\"outlinewidth\": 0, \"ticks\": \"\"}}, \"type\": \"scatterternary\"}], \"surface\": [{\"colorbar\": {\"outlinewidth\": 0, \"ticks\": \"\"}, \"colorscale\": [[0.0, \"#0d0887\"], [0.1111111111111111, \"#46039f\"], [0.2222222222222222, \"#7201a8\"], [0.3333333333333333, \"#9c179e\"], [0.4444444444444444, \"#bd3786\"], [0.5555555555555556, \"#d8576b\"], [0.6666666666666666, \"#ed7953\"], [0.7777777777777778, \"#fb9f3a\"], [0.8888888888888888, \"#fdca26\"], [1.0, \"#f0f921\"]], \"type\": \"surface\"}], \"table\": [{\"cells\": {\"fill\": {\"color\": \"#EBF0F8\"}, \"line\": {\"color\": \"white\"}}, \"header\": {\"fill\": {\"color\": \"#C8D4E3\"}, \"line\": {\"color\": \"white\"}}, \"type\": \"table\"}]}, \"layout\": {\"annotationdefaults\": {\"arrowcolor\": \"#2a3f5f\", \"arrowhead\": 0, \"arrowwidth\": 1}, \"coloraxis\": {\"colorbar\": {\"outlinewidth\": 0, \"ticks\": \"\"}}, \"colorscale\": {\"diverging\": [[0, \"#8e0152\"], [0.1, \"#c51b7d\"], [0.2, \"#de77ae\"], [0.3, \"#f1b6da\"], [0.4, \"#fde0ef\"], [0.5, \"#f7f7f7\"], [0.6, \"#e6f5d0\"], [0.7, \"#b8e186\"], [0.8, \"#7fbc41\"], [0.9, \"#4d9221\"], [1, \"#276419\"]], \"sequential\": [[0.0, \"#0d0887\"], [0.1111111111111111, \"#46039f\"], [0.2222222222222222, \"#7201a8\"], [0.3333333333333333, \"#9c179e\"], [0.4444444444444444, \"#bd3786\"], [0.5555555555555556, \"#d8576b\"], [0.6666666666666666, \"#ed7953\"], [0.7777777777777778, \"#fb9f3a\"], [0.8888888888888888, \"#fdca26\"], [1.0, \"#f0f921\"]], \"sequentialminus\": [[0.0, \"#0d0887\"], [0.1111111111111111, \"#46039f\"], [0.2222222222222222, \"#7201a8\"], [0.3333333333333333, \"#9c179e\"], [0.4444444444444444, \"#bd3786\"], [0.5555555555555556, \"#d8576b\"], [0.6666666666666666, \"#ed7953\"], [0.7777777777777778, \"#fb9f3a\"], [0.8888888888888888, \"#fdca26\"], [1.0, \"#f0f921\"]]}, \"colorway\": [\"#636efa\", \"#EF553B\", \"#00cc96\", \"#ab63fa\", \"#FFA15A\", \"#19d3f3\", \"#FF6692\", \"#B6E880\", \"#FF97FF\", \"#FECB52\"], \"font\": {\"color\": \"#2a3f5f\"}, \"geo\": {\"bgcolor\": \"white\", \"lakecolor\": \"white\", \"landcolor\": \"#E5ECF6\", \"showlakes\": true, \"showland\": true, \"subunitcolor\": \"white\"}, \"hoverlabel\": {\"align\": \"left\"}, \"hovermode\": \"closest\", \"mapbox\": {\"style\": \"light\"}, \"paper_bgcolor\": \"white\", \"plot_bgcolor\": \"#E5ECF6\", \"polar\": {\"angularaxis\": {\"gridcolor\": \"white\", \"linecolor\": \"white\", \"ticks\": \"\"}, \"bgcolor\": \"#E5ECF6\", \"radialaxis\": {\"gridcolor\": \"white\", \"linecolor\": \"white\", \"ticks\": \"\"}}, \"scene\": {\"xaxis\": {\"backgroundcolor\": \"#E5ECF6\", \"gridcolor\": \"white\", \"gridwidth\": 2, \"linecolor\": \"white\", \"showbackground\": true, \"ticks\": \"\", \"zerolinecolor\": \"white\"}, \"yaxis\": {\"backgroundcolor\": \"#E5ECF6\", \"gridcolor\": \"white\", \"gridwidth\": 2, \"linecolor\": \"white\", \"showbackground\": true, \"ticks\": \"\", \"zerolinecolor\": \"white\"}, \"zaxis\": {\"backgroundcolor\": \"#E5ECF6\", \"gridcolor\": \"white\", \"gridwidth\": 2, \"linecolor\": \"white\", \"showbackground\": true, \"ticks\": \"\", \"zerolinecolor\": \"white\"}}, \"shapedefaults\": {\"line\": {\"color\": \"#2a3f5f\"}}, \"ternary\": {\"aaxis\": {\"gridcolor\": \"white\", \"linecolor\": \"white\", \"ticks\": \"\"}, \"baxis\": {\"gridcolor\": \"white\", \"linecolor\": \"white\", \"ticks\": \"\"}, \"bgcolor\": \"#E5ECF6\", \"caxis\": {\"gridcolor\": \"white\", \"linecolor\": \"white\", \"ticks\": \"\"}}, \"title\": {\"x\": 0.05}, \"xaxis\": {\"automargin\": true, \"gridcolor\": \"white\", \"linecolor\": \"white\", \"ticks\": \"\", \"title\": {\"standoff\": 15}, \"zerolinecolor\": \"white\", \"zerolinewidth\": 2}, \"yaxis\": {\"automargin\": true, \"gridcolor\": \"white\", \"linecolor\": \"white\", \"ticks\": \"\", \"title\": {\"standoff\": 15}, \"zerolinecolor\": \"white\", \"zerolinewidth\": 2}}}, \"title\": {\"text\": \"Distribution of articles category-wise\", \"x\": 0.5, \"xanchor\": \"center\", \"y\": 0.9, \"yanchor\": \"top\"}, \"width\": 800, \"xaxis\": {\"title\": {\"text\": \"Category name\"}}, \"yaxis\": {\"title\": {\"text\": \"Number of Articles\"}}},\n",
       "                        {\"responsive\": true}\n",
       "                    ).then(function(){\n",
       "                            \n",
       "var gd = document.getElementById('4430a68e-b922-4b65-94c2-62cab98e114b');\n",
       "var x = new MutationObserver(function (mutations, observer) {{\n",
       "        var display = window.getComputedStyle(gd).display;\n",
       "        if (!display || display === 'none') {{\n",
       "            console.log([gd, 'removed!']);\n",
       "            Plotly.purge(gd);\n",
       "            observer.disconnect();\n",
       "        }}\n",
       "}});\n",
       "\n",
       "// Listen for the removal of the full notebook cells\n",
       "var notebookContainer = gd.closest('#notebook-container');\n",
       "if (notebookContainer) {{\n",
       "    x.observe(notebookContainer, {childList: true});\n",
       "}}\n",
       "\n",
       "// Listen for the clearing of the current output cell\n",
       "var outputEl = gd.closest('.output');\n",
       "if (outputEl) {{\n",
       "    x.observe(outputEl, {childList: true});\n",
       "}}\n",
       "\n",
       "                        })\n",
       "                };\n",
       "                });\n",
       "            </script>\n",
       "        </div>"
      ]
     },
     "metadata": {},
     "output_type": "display_data"
    }
   ],
   "source": [
    "fig = go.Figure([go.Bar(x=news_articles['category'].value_counts().index,\n",
    "                        y=news_articles['category'].value_counts().values)])\n",
    "\n",
    "fig['layout'].update(title = {'text':'Distribution of articles category-wise',\n",
    "                             'y': 0.9,\n",
    "                             'x': 0.5,\n",
    "                             'xanchor':'center',\n",
    "                             'yanchor':'top'},\n",
    "                    xaxis_title = \"Category name\",\n",
    "                    yaxis_title = \"Number of Articles\")\n",
    "\n",
    "fig.update_layout(width = 800, height = 700)\n",
    "\n",
    "fig"
   ]
  },
  {
   "cell_type": "markdown",
   "metadata": {},
   "source": [
    "From the bar chart we can observe that politics category has highest number of articles then Entertainment and So onn."
   ]
  },
  {
   "cell_type": "markdown",
   "metadata": {},
   "source": [
    "#### 3. Number of Articles per Month"
   ]
  },
  {
   "cell_type": "markdown",
   "metadata": {},
   "source": [
    "- Let's Group the data in monthly basis using resample() function"
   ]
  },
  {
   "cell_type": "code",
   "execution_count": 102,
   "metadata": {},
   "outputs": [
    {
     "data": {
      "text/plain": [
       "date\n",
       "2018-01-31    2065\n",
       "2018-02-28    1694\n",
       "2018-03-31    1778\n",
       "2018-04-30    1580\n",
       "2018-05-31    1368\n",
       "Freq: M, Name: headline, dtype: int64"
      ]
     },
     "execution_count": 102,
     "metadata": {},
     "output_type": "execute_result"
    }
   ],
   "source": [
    "news_articles_per_month = news_articles.resample('m',on='date')['headline'].count()\n",
    "\n",
    "news_articles_per_month"
   ]
  },
  {
   "cell_type": "code",
   "execution_count": 103,
   "metadata": {},
   "outputs": [
    {
     "data": {
      "application/vnd.plotly.v1+json": {
       "config": {
        "plotlyServerURL": "https://plot.ly"
       },
       "data": [
        {
         "type": "bar",
         "x": [
          "Jan",
          "Feb",
          "Mar",
          "Apr",
          "May"
         ],
         "y": [
          2065,
          1694,
          1778,
          1580,
          1368
         ]
        }
       ],
       "layout": {
        "height": 500,
        "template": {
         "data": {
          "bar": [
           {
            "error_x": {
             "color": "#2a3f5f"
            },
            "error_y": {
             "color": "#2a3f5f"
            },
            "marker": {
             "line": {
              "color": "#E5ECF6",
              "width": 0.5
             }
            },
            "type": "bar"
           }
          ],
          "barpolar": [
           {
            "marker": {
             "line": {
              "color": "#E5ECF6",
              "width": 0.5
             }
            },
            "type": "barpolar"
           }
          ],
          "carpet": [
           {
            "aaxis": {
             "endlinecolor": "#2a3f5f",
             "gridcolor": "white",
             "linecolor": "white",
             "minorgridcolor": "white",
             "startlinecolor": "#2a3f5f"
            },
            "baxis": {
             "endlinecolor": "#2a3f5f",
             "gridcolor": "white",
             "linecolor": "white",
             "minorgridcolor": "white",
             "startlinecolor": "#2a3f5f"
            },
            "type": "carpet"
           }
          ],
          "choropleth": [
           {
            "colorbar": {
             "outlinewidth": 0,
             "ticks": ""
            },
            "type": "choropleth"
           }
          ],
          "contour": [
           {
            "colorbar": {
             "outlinewidth": 0,
             "ticks": ""
            },
            "colorscale": [
             [
              0,
              "#0d0887"
             ],
             [
              0.1111111111111111,
              "#46039f"
             ],
             [
              0.2222222222222222,
              "#7201a8"
             ],
             [
              0.3333333333333333,
              "#9c179e"
             ],
             [
              0.4444444444444444,
              "#bd3786"
             ],
             [
              0.5555555555555556,
              "#d8576b"
             ],
             [
              0.6666666666666666,
              "#ed7953"
             ],
             [
              0.7777777777777778,
              "#fb9f3a"
             ],
             [
              0.8888888888888888,
              "#fdca26"
             ],
             [
              1,
              "#f0f921"
             ]
            ],
            "type": "contour"
           }
          ],
          "contourcarpet": [
           {
            "colorbar": {
             "outlinewidth": 0,
             "ticks": ""
            },
            "type": "contourcarpet"
           }
          ],
          "heatmap": [
           {
            "colorbar": {
             "outlinewidth": 0,
             "ticks": ""
            },
            "colorscale": [
             [
              0,
              "#0d0887"
             ],
             [
              0.1111111111111111,
              "#46039f"
             ],
             [
              0.2222222222222222,
              "#7201a8"
             ],
             [
              0.3333333333333333,
              "#9c179e"
             ],
             [
              0.4444444444444444,
              "#bd3786"
             ],
             [
              0.5555555555555556,
              "#d8576b"
             ],
             [
              0.6666666666666666,
              "#ed7953"
             ],
             [
              0.7777777777777778,
              "#fb9f3a"
             ],
             [
              0.8888888888888888,
              "#fdca26"
             ],
             [
              1,
              "#f0f921"
             ]
            ],
            "type": "heatmap"
           }
          ],
          "heatmapgl": [
           {
            "colorbar": {
             "outlinewidth": 0,
             "ticks": ""
            },
            "colorscale": [
             [
              0,
              "#0d0887"
             ],
             [
              0.1111111111111111,
              "#46039f"
             ],
             [
              0.2222222222222222,
              "#7201a8"
             ],
             [
              0.3333333333333333,
              "#9c179e"
             ],
             [
              0.4444444444444444,
              "#bd3786"
             ],
             [
              0.5555555555555556,
              "#d8576b"
             ],
             [
              0.6666666666666666,
              "#ed7953"
             ],
             [
              0.7777777777777778,
              "#fb9f3a"
             ],
             [
              0.8888888888888888,
              "#fdca26"
             ],
             [
              1,
              "#f0f921"
             ]
            ],
            "type": "heatmapgl"
           }
          ],
          "histogram": [
           {
            "marker": {
             "colorbar": {
              "outlinewidth": 0,
              "ticks": ""
             }
            },
            "type": "histogram"
           }
          ],
          "histogram2d": [
           {
            "colorbar": {
             "outlinewidth": 0,
             "ticks": ""
            },
            "colorscale": [
             [
              0,
              "#0d0887"
             ],
             [
              0.1111111111111111,
              "#46039f"
             ],
             [
              0.2222222222222222,
              "#7201a8"
             ],
             [
              0.3333333333333333,
              "#9c179e"
             ],
             [
              0.4444444444444444,
              "#bd3786"
             ],
             [
              0.5555555555555556,
              "#d8576b"
             ],
             [
              0.6666666666666666,
              "#ed7953"
             ],
             [
              0.7777777777777778,
              "#fb9f3a"
             ],
             [
              0.8888888888888888,
              "#fdca26"
             ],
             [
              1,
              "#f0f921"
             ]
            ],
            "type": "histogram2d"
           }
          ],
          "histogram2dcontour": [
           {
            "colorbar": {
             "outlinewidth": 0,
             "ticks": ""
            },
            "colorscale": [
             [
              0,
              "#0d0887"
             ],
             [
              0.1111111111111111,
              "#46039f"
             ],
             [
              0.2222222222222222,
              "#7201a8"
             ],
             [
              0.3333333333333333,
              "#9c179e"
             ],
             [
              0.4444444444444444,
              "#bd3786"
             ],
             [
              0.5555555555555556,
              "#d8576b"
             ],
             [
              0.6666666666666666,
              "#ed7953"
             ],
             [
              0.7777777777777778,
              "#fb9f3a"
             ],
             [
              0.8888888888888888,
              "#fdca26"
             ],
             [
              1,
              "#f0f921"
             ]
            ],
            "type": "histogram2dcontour"
           }
          ],
          "mesh3d": [
           {
            "colorbar": {
             "outlinewidth": 0,
             "ticks": ""
            },
            "type": "mesh3d"
           }
          ],
          "parcoords": [
           {
            "line": {
             "colorbar": {
              "outlinewidth": 0,
              "ticks": ""
             }
            },
            "type": "parcoords"
           }
          ],
          "pie": [
           {
            "automargin": true,
            "type": "pie"
           }
          ],
          "scatter": [
           {
            "marker": {
             "colorbar": {
              "outlinewidth": 0,
              "ticks": ""
             }
            },
            "type": "scatter"
           }
          ],
          "scatter3d": [
           {
            "line": {
             "colorbar": {
              "outlinewidth": 0,
              "ticks": ""
             }
            },
            "marker": {
             "colorbar": {
              "outlinewidth": 0,
              "ticks": ""
             }
            },
            "type": "scatter3d"
           }
          ],
          "scattercarpet": [
           {
            "marker": {
             "colorbar": {
              "outlinewidth": 0,
              "ticks": ""
             }
            },
            "type": "scattercarpet"
           }
          ],
          "scattergeo": [
           {
            "marker": {
             "colorbar": {
              "outlinewidth": 0,
              "ticks": ""
             }
            },
            "type": "scattergeo"
           }
          ],
          "scattergl": [
           {
            "marker": {
             "colorbar": {
              "outlinewidth": 0,
              "ticks": ""
             }
            },
            "type": "scattergl"
           }
          ],
          "scattermapbox": [
           {
            "marker": {
             "colorbar": {
              "outlinewidth": 0,
              "ticks": ""
             }
            },
            "type": "scattermapbox"
           }
          ],
          "scatterpolar": [
           {
            "marker": {
             "colorbar": {
              "outlinewidth": 0,
              "ticks": ""
             }
            },
            "type": "scatterpolar"
           }
          ],
          "scatterpolargl": [
           {
            "marker": {
             "colorbar": {
              "outlinewidth": 0,
              "ticks": ""
             }
            },
            "type": "scatterpolargl"
           }
          ],
          "scatterternary": [
           {
            "marker": {
             "colorbar": {
              "outlinewidth": 0,
              "ticks": ""
             }
            },
            "type": "scatterternary"
           }
          ],
          "surface": [
           {
            "colorbar": {
             "outlinewidth": 0,
             "ticks": ""
            },
            "colorscale": [
             [
              0,
              "#0d0887"
             ],
             [
              0.1111111111111111,
              "#46039f"
             ],
             [
              0.2222222222222222,
              "#7201a8"
             ],
             [
              0.3333333333333333,
              "#9c179e"
             ],
             [
              0.4444444444444444,
              "#bd3786"
             ],
             [
              0.5555555555555556,
              "#d8576b"
             ],
             [
              0.6666666666666666,
              "#ed7953"
             ],
             [
              0.7777777777777778,
              "#fb9f3a"
             ],
             [
              0.8888888888888888,
              "#fdca26"
             ],
             [
              1,
              "#f0f921"
             ]
            ],
            "type": "surface"
           }
          ],
          "table": [
           {
            "cells": {
             "fill": {
              "color": "#EBF0F8"
             },
             "line": {
              "color": "white"
             }
            },
            "header": {
             "fill": {
              "color": "#C8D4E3"
             },
             "line": {
              "color": "white"
             }
            },
            "type": "table"
           }
          ]
         },
         "layout": {
          "annotationdefaults": {
           "arrowcolor": "#2a3f5f",
           "arrowhead": 0,
           "arrowwidth": 1
          },
          "coloraxis": {
           "colorbar": {
            "outlinewidth": 0,
            "ticks": ""
           }
          },
          "colorscale": {
           "diverging": [
            [
             0,
             "#8e0152"
            ],
            [
             0.1,
             "#c51b7d"
            ],
            [
             0.2,
             "#de77ae"
            ],
            [
             0.3,
             "#f1b6da"
            ],
            [
             0.4,
             "#fde0ef"
            ],
            [
             0.5,
             "#f7f7f7"
            ],
            [
             0.6,
             "#e6f5d0"
            ],
            [
             0.7,
             "#b8e186"
            ],
            [
             0.8,
             "#7fbc41"
            ],
            [
             0.9,
             "#4d9221"
            ],
            [
             1,
             "#276419"
            ]
           ],
           "sequential": [
            [
             0,
             "#0d0887"
            ],
            [
             0.1111111111111111,
             "#46039f"
            ],
            [
             0.2222222222222222,
             "#7201a8"
            ],
            [
             0.3333333333333333,
             "#9c179e"
            ],
            [
             0.4444444444444444,
             "#bd3786"
            ],
            [
             0.5555555555555556,
             "#d8576b"
            ],
            [
             0.6666666666666666,
             "#ed7953"
            ],
            [
             0.7777777777777778,
             "#fb9f3a"
            ],
            [
             0.8888888888888888,
             "#fdca26"
            ],
            [
             1,
             "#f0f921"
            ]
           ],
           "sequentialminus": [
            [
             0,
             "#0d0887"
            ],
            [
             0.1111111111111111,
             "#46039f"
            ],
            [
             0.2222222222222222,
             "#7201a8"
            ],
            [
             0.3333333333333333,
             "#9c179e"
            ],
            [
             0.4444444444444444,
             "#bd3786"
            ],
            [
             0.5555555555555556,
             "#d8576b"
            ],
            [
             0.6666666666666666,
             "#ed7953"
            ],
            [
             0.7777777777777778,
             "#fb9f3a"
            ],
            [
             0.8888888888888888,
             "#fdca26"
            ],
            [
             1,
             "#f0f921"
            ]
           ]
          },
          "colorway": [
           "#636efa",
           "#EF553B",
           "#00cc96",
           "#ab63fa",
           "#FFA15A",
           "#19d3f3",
           "#FF6692",
           "#B6E880",
           "#FF97FF",
           "#FECB52"
          ],
          "font": {
           "color": "#2a3f5f"
          },
          "geo": {
           "bgcolor": "white",
           "lakecolor": "white",
           "landcolor": "#E5ECF6",
           "showlakes": true,
           "showland": true,
           "subunitcolor": "white"
          },
          "hoverlabel": {
           "align": "left"
          },
          "hovermode": "closest",
          "mapbox": {
           "style": "light"
          },
          "paper_bgcolor": "white",
          "plot_bgcolor": "#E5ECF6",
          "polar": {
           "angularaxis": {
            "gridcolor": "white",
            "linecolor": "white",
            "ticks": ""
           },
           "bgcolor": "#E5ECF6",
           "radialaxis": {
            "gridcolor": "white",
            "linecolor": "white",
            "ticks": ""
           }
          },
          "scene": {
           "xaxis": {
            "backgroundcolor": "#E5ECF6",
            "gridcolor": "white",
            "gridwidth": 2,
            "linecolor": "white",
            "showbackground": true,
            "ticks": "",
            "zerolinecolor": "white"
           },
           "yaxis": {
            "backgroundcolor": "#E5ECF6",
            "gridcolor": "white",
            "gridwidth": 2,
            "linecolor": "white",
            "showbackground": true,
            "ticks": "",
            "zerolinecolor": "white"
           },
           "zaxis": {
            "backgroundcolor": "#E5ECF6",
            "gridcolor": "white",
            "gridwidth": 2,
            "linecolor": "white",
            "showbackground": true,
            "ticks": "",
            "zerolinecolor": "white"
           }
          },
          "shapedefaults": {
           "line": {
            "color": "#2a3f5f"
           }
          },
          "ternary": {
           "aaxis": {
            "gridcolor": "white",
            "linecolor": "white",
            "ticks": ""
           },
           "baxis": {
            "gridcolor": "white",
            "linecolor": "white",
            "ticks": ""
           },
           "bgcolor": "#E5ECF6",
           "caxis": {
            "gridcolor": "white",
            "linecolor": "white",
            "ticks": ""
           }
          },
          "title": {
           "x": 0.05
          },
          "xaxis": {
           "automargin": true,
           "gridcolor": "white",
           "linecolor": "white",
           "ticks": "",
           "title": {
            "standoff": 15
           },
           "zerolinecolor": "white",
           "zerolinewidth": 2
          },
          "yaxis": {
           "automargin": true,
           "gridcolor": "white",
           "linecolor": "white",
           "ticks": "",
           "title": {
            "standoff": 15
           },
           "zerolinecolor": "white",
           "zerolinewidth": 2
          }
         }
        },
        "title": {
         "text": "Distribution of articles month-wise",
         "x": 0.5,
         "xanchor": "center",
         "y": 0.9,
         "yanchor": "top"
        },
        "width": 500,
        "xaxis": {
         "title": {
          "text": "Month"
         }
        },
        "yaxis": {
         "title": {
          "text": "Number of articles"
         }
        }
       }
      },
      "text/html": [
       "<div>\n",
       "        \n",
       "        \n",
       "            <div id=\"7a396c9b-262e-44f0-bcb9-a4ae35ebaaaf\" class=\"plotly-graph-div\" style=\"height:500px; width:500px;\"></div>\n",
       "            <script type=\"text/javascript\">\n",
       "                require([\"plotly\"], function(Plotly) {\n",
       "                    window.PLOTLYENV=window.PLOTLYENV || {};\n",
       "                    \n",
       "                if (document.getElementById(\"7a396c9b-262e-44f0-bcb9-a4ae35ebaaaf\")) {\n",
       "                    Plotly.newPlot(\n",
       "                        '7a396c9b-262e-44f0-bcb9-a4ae35ebaaaf',\n",
       "                        [{\"type\": \"bar\", \"x\": [\"Jan\", \"Feb\", \"Mar\", \"Apr\", \"May\"], \"y\": [2065, 1694, 1778, 1580, 1368]}],\n",
       "                        {\"height\": 500, \"template\": {\"data\": {\"bar\": [{\"error_x\": {\"color\": \"#2a3f5f\"}, \"error_y\": {\"color\": \"#2a3f5f\"}, \"marker\": {\"line\": {\"color\": \"#E5ECF6\", \"width\": 0.5}}, \"type\": \"bar\"}], \"barpolar\": [{\"marker\": {\"line\": {\"color\": \"#E5ECF6\", \"width\": 0.5}}, \"type\": \"barpolar\"}], \"carpet\": [{\"aaxis\": {\"endlinecolor\": \"#2a3f5f\", \"gridcolor\": \"white\", \"linecolor\": \"white\", \"minorgridcolor\": \"white\", \"startlinecolor\": \"#2a3f5f\"}, \"baxis\": {\"endlinecolor\": \"#2a3f5f\", \"gridcolor\": \"white\", \"linecolor\": \"white\", \"minorgridcolor\": \"white\", \"startlinecolor\": \"#2a3f5f\"}, \"type\": \"carpet\"}], \"choropleth\": [{\"colorbar\": {\"outlinewidth\": 0, \"ticks\": \"\"}, \"type\": \"choropleth\"}], \"contour\": [{\"colorbar\": {\"outlinewidth\": 0, \"ticks\": \"\"}, \"colorscale\": [[0.0, \"#0d0887\"], [0.1111111111111111, \"#46039f\"], [0.2222222222222222, \"#7201a8\"], [0.3333333333333333, \"#9c179e\"], [0.4444444444444444, \"#bd3786\"], [0.5555555555555556, \"#d8576b\"], [0.6666666666666666, \"#ed7953\"], [0.7777777777777778, \"#fb9f3a\"], [0.8888888888888888, \"#fdca26\"], [1.0, \"#f0f921\"]], \"type\": \"contour\"}], \"contourcarpet\": [{\"colorbar\": {\"outlinewidth\": 0, \"ticks\": \"\"}, \"type\": \"contourcarpet\"}], \"heatmap\": [{\"colorbar\": {\"outlinewidth\": 0, \"ticks\": \"\"}, \"colorscale\": [[0.0, \"#0d0887\"], [0.1111111111111111, \"#46039f\"], [0.2222222222222222, \"#7201a8\"], [0.3333333333333333, \"#9c179e\"], [0.4444444444444444, \"#bd3786\"], [0.5555555555555556, \"#d8576b\"], [0.6666666666666666, \"#ed7953\"], [0.7777777777777778, \"#fb9f3a\"], [0.8888888888888888, \"#fdca26\"], [1.0, \"#f0f921\"]], \"type\": \"heatmap\"}], \"heatmapgl\": [{\"colorbar\": {\"outlinewidth\": 0, \"ticks\": \"\"}, \"colorscale\": [[0.0, \"#0d0887\"], [0.1111111111111111, \"#46039f\"], [0.2222222222222222, \"#7201a8\"], [0.3333333333333333, \"#9c179e\"], [0.4444444444444444, \"#bd3786\"], [0.5555555555555556, \"#d8576b\"], [0.6666666666666666, \"#ed7953\"], [0.7777777777777778, \"#fb9f3a\"], [0.8888888888888888, \"#fdca26\"], [1.0, \"#f0f921\"]], \"type\": \"heatmapgl\"}], \"histogram\": [{\"marker\": {\"colorbar\": {\"outlinewidth\": 0, \"ticks\": \"\"}}, \"type\": \"histogram\"}], \"histogram2d\": [{\"colorbar\": {\"outlinewidth\": 0, \"ticks\": \"\"}, \"colorscale\": [[0.0, \"#0d0887\"], [0.1111111111111111, \"#46039f\"], [0.2222222222222222, \"#7201a8\"], [0.3333333333333333, \"#9c179e\"], [0.4444444444444444, \"#bd3786\"], [0.5555555555555556, \"#d8576b\"], [0.6666666666666666, \"#ed7953\"], [0.7777777777777778, \"#fb9f3a\"], [0.8888888888888888, \"#fdca26\"], [1.0, \"#f0f921\"]], \"type\": \"histogram2d\"}], \"histogram2dcontour\": [{\"colorbar\": {\"outlinewidth\": 0, \"ticks\": \"\"}, \"colorscale\": [[0.0, \"#0d0887\"], [0.1111111111111111, \"#46039f\"], [0.2222222222222222, \"#7201a8\"], [0.3333333333333333, \"#9c179e\"], [0.4444444444444444, \"#bd3786\"], [0.5555555555555556, \"#d8576b\"], [0.6666666666666666, \"#ed7953\"], [0.7777777777777778, \"#fb9f3a\"], [0.8888888888888888, \"#fdca26\"], [1.0, \"#f0f921\"]], \"type\": \"histogram2dcontour\"}], \"mesh3d\": [{\"colorbar\": {\"outlinewidth\": 0, \"ticks\": \"\"}, \"type\": \"mesh3d\"}], \"parcoords\": [{\"line\": {\"colorbar\": {\"outlinewidth\": 0, \"ticks\": \"\"}}, \"type\": \"parcoords\"}], \"pie\": [{\"automargin\": true, \"type\": \"pie\"}], \"scatter\": [{\"marker\": {\"colorbar\": {\"outlinewidth\": 0, \"ticks\": \"\"}}, \"type\": \"scatter\"}], \"scatter3d\": [{\"line\": {\"colorbar\": {\"outlinewidth\": 0, \"ticks\": \"\"}}, \"marker\": {\"colorbar\": {\"outlinewidth\": 0, \"ticks\": \"\"}}, \"type\": \"scatter3d\"}], \"scattercarpet\": [{\"marker\": {\"colorbar\": {\"outlinewidth\": 0, \"ticks\": \"\"}}, \"type\": \"scattercarpet\"}], \"scattergeo\": [{\"marker\": {\"colorbar\": {\"outlinewidth\": 0, \"ticks\": \"\"}}, \"type\": \"scattergeo\"}], \"scattergl\": [{\"marker\": {\"colorbar\": {\"outlinewidth\": 0, \"ticks\": \"\"}}, \"type\": \"scattergl\"}], \"scattermapbox\": [{\"marker\": {\"colorbar\": {\"outlinewidth\": 0, \"ticks\": \"\"}}, \"type\": \"scattermapbox\"}], \"scatterpolar\": [{\"marker\": {\"colorbar\": {\"outlinewidth\": 0, \"ticks\": \"\"}}, \"type\": \"scatterpolar\"}], \"scatterpolargl\": [{\"marker\": {\"colorbar\": {\"outlinewidth\": 0, \"ticks\": \"\"}}, \"type\": \"scatterpolargl\"}], \"scatterternary\": [{\"marker\": {\"colorbar\": {\"outlinewidth\": 0, \"ticks\": \"\"}}, \"type\": \"scatterternary\"}], \"surface\": [{\"colorbar\": {\"outlinewidth\": 0, \"ticks\": \"\"}, \"colorscale\": [[0.0, \"#0d0887\"], [0.1111111111111111, \"#46039f\"], [0.2222222222222222, \"#7201a8\"], [0.3333333333333333, \"#9c179e\"], [0.4444444444444444, \"#bd3786\"], [0.5555555555555556, \"#d8576b\"], [0.6666666666666666, \"#ed7953\"], [0.7777777777777778, \"#fb9f3a\"], [0.8888888888888888, \"#fdca26\"], [1.0, \"#f0f921\"]], \"type\": \"surface\"}], \"table\": [{\"cells\": {\"fill\": {\"color\": \"#EBF0F8\"}, \"line\": {\"color\": \"white\"}}, \"header\": {\"fill\": {\"color\": \"#C8D4E3\"}, \"line\": {\"color\": \"white\"}}, \"type\": \"table\"}]}, \"layout\": {\"annotationdefaults\": {\"arrowcolor\": \"#2a3f5f\", \"arrowhead\": 0, \"arrowwidth\": 1}, \"coloraxis\": {\"colorbar\": {\"outlinewidth\": 0, \"ticks\": \"\"}}, \"colorscale\": {\"diverging\": [[0, \"#8e0152\"], [0.1, \"#c51b7d\"], [0.2, \"#de77ae\"], [0.3, \"#f1b6da\"], [0.4, \"#fde0ef\"], [0.5, \"#f7f7f7\"], [0.6, \"#e6f5d0\"], [0.7, \"#b8e186\"], [0.8, \"#7fbc41\"], [0.9, \"#4d9221\"], [1, \"#276419\"]], \"sequential\": [[0.0, \"#0d0887\"], [0.1111111111111111, \"#46039f\"], [0.2222222222222222, \"#7201a8\"], [0.3333333333333333, \"#9c179e\"], [0.4444444444444444, \"#bd3786\"], [0.5555555555555556, \"#d8576b\"], [0.6666666666666666, \"#ed7953\"], [0.7777777777777778, \"#fb9f3a\"], [0.8888888888888888, \"#fdca26\"], [1.0, \"#f0f921\"]], \"sequentialminus\": [[0.0, \"#0d0887\"], [0.1111111111111111, \"#46039f\"], [0.2222222222222222, \"#7201a8\"], [0.3333333333333333, \"#9c179e\"], [0.4444444444444444, \"#bd3786\"], [0.5555555555555556, \"#d8576b\"], [0.6666666666666666, \"#ed7953\"], [0.7777777777777778, \"#fb9f3a\"], [0.8888888888888888, \"#fdca26\"], [1.0, \"#f0f921\"]]}, \"colorway\": [\"#636efa\", \"#EF553B\", \"#00cc96\", \"#ab63fa\", \"#FFA15A\", \"#19d3f3\", \"#FF6692\", \"#B6E880\", \"#FF97FF\", \"#FECB52\"], \"font\": {\"color\": \"#2a3f5f\"}, \"geo\": {\"bgcolor\": \"white\", \"lakecolor\": \"white\", \"landcolor\": \"#E5ECF6\", \"showlakes\": true, \"showland\": true, \"subunitcolor\": \"white\"}, \"hoverlabel\": {\"align\": \"left\"}, \"hovermode\": \"closest\", \"mapbox\": {\"style\": \"light\"}, \"paper_bgcolor\": \"white\", \"plot_bgcolor\": \"#E5ECF6\", \"polar\": {\"angularaxis\": {\"gridcolor\": \"white\", \"linecolor\": \"white\", \"ticks\": \"\"}, \"bgcolor\": \"#E5ECF6\", \"radialaxis\": {\"gridcolor\": \"white\", \"linecolor\": \"white\", \"ticks\": \"\"}}, \"scene\": {\"xaxis\": {\"backgroundcolor\": \"#E5ECF6\", \"gridcolor\": \"white\", \"gridwidth\": 2, \"linecolor\": \"white\", \"showbackground\": true, \"ticks\": \"\", \"zerolinecolor\": \"white\"}, \"yaxis\": {\"backgroundcolor\": \"#E5ECF6\", \"gridcolor\": \"white\", \"gridwidth\": 2, \"linecolor\": \"white\", \"showbackground\": true, \"ticks\": \"\", \"zerolinecolor\": \"white\"}, \"zaxis\": {\"backgroundcolor\": \"#E5ECF6\", \"gridcolor\": \"white\", \"gridwidth\": 2, \"linecolor\": \"white\", \"showbackground\": true, \"ticks\": \"\", \"zerolinecolor\": \"white\"}}, \"shapedefaults\": {\"line\": {\"color\": \"#2a3f5f\"}}, \"ternary\": {\"aaxis\": {\"gridcolor\": \"white\", \"linecolor\": \"white\", \"ticks\": \"\"}, \"baxis\": {\"gridcolor\": \"white\", \"linecolor\": \"white\", \"ticks\": \"\"}, \"bgcolor\": \"#E5ECF6\", \"caxis\": {\"gridcolor\": \"white\", \"linecolor\": \"white\", \"ticks\": \"\"}}, \"title\": {\"x\": 0.05}, \"xaxis\": {\"automargin\": true, \"gridcolor\": \"white\", \"linecolor\": \"white\", \"ticks\": \"\", \"title\": {\"standoff\": 15}, \"zerolinecolor\": \"white\", \"zerolinewidth\": 2}, \"yaxis\": {\"automargin\": true, \"gridcolor\": \"white\", \"linecolor\": \"white\", \"ticks\": \"\", \"title\": {\"standoff\": 15}, \"zerolinecolor\": \"white\", \"zerolinewidth\": 2}}}, \"title\": {\"text\": \"Distribution of articles month-wise\", \"x\": 0.5, \"xanchor\": \"center\", \"y\": 0.9, \"yanchor\": \"top\"}, \"width\": 500, \"xaxis\": {\"title\": {\"text\": \"Month\"}}, \"yaxis\": {\"title\": {\"text\": \"Number of articles\"}}},\n",
       "                        {\"responsive\": true}\n",
       "                    ).then(function(){\n",
       "                            \n",
       "var gd = document.getElementById('7a396c9b-262e-44f0-bcb9-a4ae35ebaaaf');\n",
       "var x = new MutationObserver(function (mutations, observer) {{\n",
       "        var display = window.getComputedStyle(gd).display;\n",
       "        if (!display || display === 'none') {{\n",
       "            console.log([gd, 'removed!']);\n",
       "            Plotly.purge(gd);\n",
       "            observer.disconnect();\n",
       "        }}\n",
       "}});\n",
       "\n",
       "// Listen for the removal of the full notebook cells\n",
       "var notebookContainer = gd.closest('#notebook-container');\n",
       "if (notebookContainer) {{\n",
       "    x.observe(notebookContainer, {childList: true});\n",
       "}}\n",
       "\n",
       "// Listen for the clearing of the current output cell\n",
       "var outputEl = gd.closest('.output');\n",
       "if (outputEl) {{\n",
       "    x.observe(outputEl, {childList: true});\n",
       "}}\n",
       "\n",
       "                        })\n",
       "                };\n",
       "                });\n",
       "            </script>\n",
       "        </div>"
      ]
     },
     "metadata": {},
     "output_type": "display_data"
    }
   ],
   "source": [
    "fig = go.Figure([go.Bar(x=news_articles_per_month.index.strftime(\"%b\"), y=news_articles_per_month)])\n",
    "\n",
    "fig['layout'].update(title={\"text\" : 'Distribution of articles month-wise',\n",
    "                            'y':0.9,\n",
    "                            'x':0.5,\n",
    "                            'xanchor': 'center',\n",
    "                            'yanchor': 'top'}, \n",
    "                     xaxis_title=\"Month\",\n",
    "                     yaxis_title=\"Number of articles\")\n",
    "fig.update_layout(width=500,height=500)\n",
    "\n",
    "fig"
   ]
  },
  {
   "cell_type": "markdown",
   "metadata": {},
   "source": [
    "- From the bar chart we can observe that January month has highest number of artiles then March "
   ]
  },
  {
   "cell_type": "markdown",
   "metadata": {},
   "source": [
    "#### 4. PDF for the Length of headlines"
   ]
  },
  {
   "cell_type": "code",
   "execution_count": 104,
   "metadata": {},
   "outputs": [
    {
     "data": {
      "application/vnd.plotly.v1+json": {
       "config": {
        "plotlyServerURL": "https://plot.ly"
       },
       "data": [
        {
         "legendgroup": "ht",
         "marker": {
          "color": "rgb(31, 119, 180)"
         },
         "mode": "lines",
         "name": "ht",
         "showlegend": true,
         "type": "scatter",
         "x": [
          25,
          25.21,
          25.42,
          25.63,
          25.84,
          26.05,
          26.26,
          26.47,
          26.68,
          26.89,
          27.1,
          27.31,
          27.52,
          27.73,
          27.94,
          28.15,
          28.36,
          28.57,
          28.78,
          28.990000000000002,
          29.2,
          29.41,
          29.62,
          29.83,
          30.04,
          30.25,
          30.46,
          30.67,
          30.88,
          31.09,
          31.3,
          31.509999999999998,
          31.72,
          31.93,
          32.14,
          32.35,
          32.56,
          32.769999999999996,
          32.980000000000004,
          33.19,
          33.4,
          33.61,
          33.82,
          34.03,
          34.24,
          34.45,
          34.66,
          34.87,
          35.08,
          35.29,
          35.5,
          35.71,
          35.92,
          36.13,
          36.34,
          36.55,
          36.76,
          36.97,
          37.18,
          37.39,
          37.6,
          37.81,
          38.019999999999996,
          38.230000000000004,
          38.44,
          38.65,
          38.86,
          39.07,
          39.28,
          39.49,
          39.7,
          39.91,
          40.12,
          40.33,
          40.54,
          40.75,
          40.96,
          41.17,
          41.379999999999995,
          41.59,
          41.8,
          42.010000000000005,
          42.22,
          42.43,
          42.64,
          42.85,
          43.06,
          43.269999999999996,
          43.480000000000004,
          43.69,
          43.9,
          44.11,
          44.32,
          44.53,
          44.739999999999995,
          44.95,
          45.16,
          45.370000000000005,
          45.58,
          45.79,
          46,
          46.21,
          46.42,
          46.629999999999995,
          46.84,
          47.05,
          47.260000000000005,
          47.47,
          47.68,
          47.89,
          48.1,
          48.31,
          48.519999999999996,
          48.730000000000004,
          48.94,
          49.15,
          49.36,
          49.57,
          49.78,
          49.989999999999995,
          50.2,
          50.41,
          50.620000000000005,
          50.83,
          51.04,
          51.25,
          51.46,
          51.67,
          51.879999999999995,
          52.09,
          52.3,
          52.510000000000005,
          52.72,
          52.93,
          53.14,
          53.35,
          53.56,
          53.769999999999996,
          53.980000000000004,
          54.19,
          54.4,
          54.61,
          54.82,
          55.03,
          55.239999999999995,
          55.45,
          55.66,
          55.870000000000005,
          56.08,
          56.29,
          56.5,
          56.71,
          56.92,
          57.13,
          57.34,
          57.55,
          57.76,
          57.97,
          58.18,
          58.39,
          58.6,
          58.81,
          59.02,
          59.23,
          59.44,
          59.65,
          59.86,
          60.07,
          60.28,
          60.49,
          60.7,
          60.91,
          61.12,
          61.33,
          61.54,
          61.75,
          61.96,
          62.17,
          62.38,
          62.59,
          62.8,
          63.01,
          63.22,
          63.43,
          63.64,
          63.85,
          64.06,
          64.27000000000001,
          64.47999999999999,
          64.69,
          64.9,
          65.11,
          65.32,
          65.53,
          65.74000000000001,
          65.95,
          66.16,
          66.37,
          66.58,
          66.78999999999999,
          67,
          67.21000000000001,
          67.42,
          67.63,
          67.84,
          68.05,
          68.25999999999999,
          68.47,
          68.68,
          68.89,
          69.1,
          69.31,
          69.52000000000001,
          69.72999999999999,
          69.94,
          70.15,
          70.36,
          70.57,
          70.78,
          70.99000000000001,
          71.2,
          71.41,
          71.62,
          71.83,
          72.03999999999999,
          72.25,
          72.46000000000001,
          72.67,
          72.88,
          73.09,
          73.3,
          73.50999999999999,
          73.72,
          73.93,
          74.14,
          74.35,
          74.56,
          74.77000000000001,
          74.97999999999999,
          75.19,
          75.4,
          75.61,
          75.82,
          76.03,
          76.24000000000001,
          76.45,
          76.66,
          76.87,
          77.08,
          77.28999999999999,
          77.5,
          77.71000000000001,
          77.92,
          78.13,
          78.34,
          78.55,
          78.75999999999999,
          78.97,
          79.18,
          79.39,
          79.6,
          79.81,
          80.02000000000001,
          80.22999999999999,
          80.44,
          80.65,
          80.86,
          81.07,
          81.28,
          81.49000000000001,
          81.7,
          81.91,
          82.12,
          82.33,
          82.53999999999999,
          82.75,
          82.96000000000001,
          83.17,
          83.38,
          83.59,
          83.8,
          84.00999999999999,
          84.22,
          84.43,
          84.64,
          84.85,
          85.06,
          85.27000000000001,
          85.47999999999999,
          85.69,
          85.9,
          86.11,
          86.32,
          86.53,
          86.74000000000001,
          86.95,
          87.16,
          87.37,
          87.58,
          87.78999999999999,
          88,
          88.21000000000001,
          88.42,
          88.63,
          88.84,
          89.05,
          89.26,
          89.47,
          89.68,
          89.89,
          90.1,
          90.31,
          90.52,
          90.73,
          90.94,
          91.15,
          91.36,
          91.57,
          91.78,
          91.99,
          92.2,
          92.41,
          92.62,
          92.83,
          93.04,
          93.25,
          93.46,
          93.67,
          93.88,
          94.09,
          94.3,
          94.51,
          94.72,
          94.93,
          95.14,
          95.35,
          95.56,
          95.77,
          95.98,
          96.19,
          96.4,
          96.61,
          96.82,
          97.03,
          97.24,
          97.45,
          97.66,
          97.87,
          98.08,
          98.29,
          98.5,
          98.71,
          98.92,
          99.13,
          99.34,
          99.55,
          99.76,
          99.97,
          100.18,
          100.39,
          100.6,
          100.81,
          101.02,
          101.23,
          101.44,
          101.65,
          101.86,
          102.07,
          102.28,
          102.49,
          102.7,
          102.91,
          103.12,
          103.33,
          103.54,
          103.75,
          103.96,
          104.17,
          104.38,
          104.59,
          104.8,
          105.01,
          105.22,
          105.43,
          105.64,
          105.85,
          106.06,
          106.27,
          106.48,
          106.69,
          106.9,
          107.11,
          107.32,
          107.53,
          107.74,
          107.95,
          108.16,
          108.37,
          108.58,
          108.79,
          109,
          109.21,
          109.42,
          109.63,
          109.84,
          110.05,
          110.26,
          110.47,
          110.68,
          110.89,
          111.1,
          111.31,
          111.52,
          111.73,
          111.94,
          112.15,
          112.36,
          112.57,
          112.78,
          112.99,
          113.2,
          113.41,
          113.62,
          113.83,
          114.04,
          114.25,
          114.46,
          114.67,
          114.88,
          115.09,
          115.3,
          115.51,
          115.72,
          115.93,
          116.14,
          116.35,
          116.56,
          116.77,
          116.98,
          117.19,
          117.4,
          117.61,
          117.82,
          118.03,
          118.24,
          118.45,
          118.66,
          118.87,
          119.08,
          119.29,
          119.5,
          119.71,
          119.92,
          120.13,
          120.34,
          120.55,
          120.76,
          120.97,
          121.18,
          121.39,
          121.6,
          121.81,
          122.02,
          122.23,
          122.44,
          122.65,
          122.86,
          123.07,
          123.28,
          123.49,
          123.7,
          123.91,
          124.12,
          124.33,
          124.54,
          124.75,
          124.96,
          125.17,
          125.38,
          125.59,
          125.8,
          126.01,
          126.22,
          126.43,
          126.64,
          126.85,
          127.06,
          127.27,
          127.48,
          127.69,
          127.9,
          128.11,
          128.32,
          128.53,
          128.74,
          128.95,
          129.16,
          129.37,
          129.57999999999998,
          129.79000000000002
         ],
         "xaxis": "x",
         "y": [
          9.761758669784215e-05,
          0.00010325831164921104,
          0.00010843298459129327,
          0.00011313553202672725,
          0.00011739554705294587,
          0.0001212781925078285,
          0.00012488160912757553,
          0.00012833195525104214,
          0.00013177643189014803,
          0.0001353748489799861,
          0.0001392904418264581,
          0.0001436807323692511,
          0.00014868923626863337,
          0.00015443874126447928,
          0.00016102673140292538,
          0.00016852332096544401,
          0.00017697181358664383,
          0.00018639174269529787,
          0.00019678400672695862,
          0.00020813751202780875,
          0.00022043659839849893,
          0.00023366845992195293,
          0.00024782979166326974,
          0.0002629319869246314,
          0.00027900436808591154,
          0.00029609513870774474,
          0.0003142699738284915,
          0.00033360839639010503,
          0.0003541982989159284,
          0.0003761291427338002,
          0.00039948448880553123,
          0.00042433457675755914,
          0.0004507296697575682,
          0.00047869482521141607,
          0.0005082266416629184,
          0.0005392923804376615,
          0.0005718316778924335,
          0.00060576086283062,
          0.0006409796861002982,
          0.0006773800678026518,
          0.0007148562837941942,
          0.0007533158588123271,
          0.0007926903196818816,
          0.000832944898988727,
          0.0008740862762707753,
          0.0009161675068253668,
          0.0009592894209217609,
          0.001003597977262211,
          0.0010492773171879276,
          0.0010965385775688291,
          0.0011456048617448982,
          0.0011966931152622188,
          0.0012499939786775143,
          0.0013056509639736604,
          0.001363740495669004,
          0.0014242544477831795,
          0.0014870867751478577,
          0.001552025672616528,
          0.0016187523995630359,
          0.001686847492183293,
          0.0017558045765632012,
          0.0018250514258213715,
          0.001893977317997249,
          0.001961965196437055,
          0.0020284266617053436,
          0.0020928374813028124,
          0.0021547711309929415,
          0.002213927907407209,
          0.002270157387533109,
          0.0023234724490875363,
          0.0023740536784553823,
          0.0024222437319847486,
          0.002468532017805132,
          0.0025135308541624247,
          0.0025579449587034065,
          0.002602536659068421,
          0.0026480895309619694,
          0.0026953732301191395,
          0.0027451120812465087,
          0.0027979595414514384,
          0.002854480016790886,
          0.002915138749240915,
          0.0029802996917890727,
          0.0030502305384277678,
          0.003125113452383847,
          0.0032050596009841345,
          0.003290125395406738,
          0.0033803283564295965,
          0.003475660764052237,
          0.0035760996575330086,
          0.0036816122753240556,
          0.0037921565971155468,
          0.00390767721018533,
          0.004028097216372367,
          0.004153307285671966,
          0.004283153225892823,
          0.00441742356942755,
          0.004555838685686468,
          0.004698042827815268,
          0.004843600335852922,
          0.004991996966339557,
          0.005142647018395636,
          0.00529490659197093,
          0.005448092954861862,
          0.005601509618588829,
          0.005754476337090127,
          0.005906362857341758,
          0.0060566248836581215,
          0.006204840390061564,
          0.0063507441559469266,
          0.006494258241045016,
          0.00663551608795394,
          0.00677487807092594,
          0.006912936614930909,
          0.007050509491608969,
          0.0071886205433079635,
          0.0073284678589322005,
          0.00747138027426758,
          0.007618763929571062,
          0.00777204141564767,
          0.007932586703422562,
          0.008101659516219632,
          0.008280343019261576,
          0.00846948863955689,
          0.008669671488645662,
          0.008881159263509304,
          0.009103896693224567,
          0.009337506644419916,
          0.009581307971816794,
          0.0098343491784949,
          0.01009545600655939,
          0.010363290273910301,
          0.010636416652497609,
          0.010913373675907506,
          0.011192745080378588,
          0.011473227619748633,
          0.011753691736740037,
          0.01203323189875494,
          0.012311203990691558,
          0.012587247873389527,
          0.012861294036193877,
          0.013133554165455388,
          0.013404496382548745,
          0.01367480683298826,
          0.013945340181458665,
          0.014217062326596945,
          0.014490989229298283,
          0.014768126084912342,
          0.015049411107787474,
          0.015335667900042671,
          0.01562756973753799,
          0.015925618152835937,
          0.016230136994228008,
          0.016541281794396057,
          0.016859062921967375,
          0.017183379756983762,
          0.017514062164769452,
          0.01785091495490541,
          0.018193760874126694,
          0.01854247801086286,
          0.01889702824275595,
          0.019257474439761987,
          0.019623985404989067,
          0.01999682883107317,
          0.02037635371011678,
          0.020762964522700465,
          0.02115709005291841,
          0.02155914979521025,
          0.021969520658673754,
          0.022388506113397006,
          0.022816309178479138,
          0.023253009859076364,
          0.023698546932377707,
          0.024152703467159583,
          0.024615095204686126,
          0.025085160947010545,
          0.02556215436005776,
          0.026045137030872002,
          0.026532973123543715,
          0.027024326452204945,
          0.02751766113917139,
          0.028011247185318965,
          0.028503172217300417,
          0.028991360399367123,
          0.029473599046849916,
          0.029947572917581728,
          0.03041090556071103,
          0.030861206540216037,
          0.031296122879416806,
          0.03171339272826884,
          0.032110899050058955,
          0.03248672105222598,
          0.03283918112957733,
          0.03316688522641146,
          0.03346875474116772,
          0.03374404838726986,
          0.0339923727913603,
          0.034213681066247364,
          0.034408259150693433,
          0.034576700361412936,
          0.03471986933513433,
          0.034838857306742035,
          0.03493493140502996,
          0.035009481263007014,
          0.03506396663960632,
          0.035099869846005084,
          0.0351186564985518,
          0.03512174745673863,
          0.03511050377380058,
          0.03508622516799524,
          0.035050161042149905,
          0.035003531601867276,
          0.034947555330075604,
          0.034883478141827635,
          0.03481259911120052,
          0.03473628782074216,
          0.03465598915191423,
          0.034573212653510856,
          0.03448950536042743,
          0.03440640889251269,
          0.034325403609304014,
          0.0342478442891446,
          0.034174893021948954,
          0.034107455589238424,
          0.0340461274669016,
          0.03399115473179586,
          0.03394241368298545,
          0.0338994110840664,
          0.03386130483422514,
          0.0338269428466241,
          0.033794916205301395,
          0.033763621490200436,
          0.03373132663232513,
          0.03369623482243932,
          0.03365654178638745,
          0.03361048301286217,
          0.03355636906990357,
          0.03349260874166549,
          0.03341772113261202,
          0.03333033894003941,
          0.03322920567349602,
          0.03311316966962091,
          0.032981177364711664,
          0.0328322675671594,
          0.0326655675869651,
          0.03248029121557321,
          0.03227573787612208,
          0.03205129190723145,
          0.03180642096275049,
          0.03154067289115714,
          0.03125367111621292,
          0.0309451093341004,
          0.030614747099714783,
          0.030262408423061344,
          0.029887985691917855,
          0.02949145098988988,
          0.029072876172377173,
          0.028632461957088427,
          0.028170574912188915,
          0.027687789769248308,
          0.02718493316267165,
          0.02666312391157666,
          0.02612380448881394,
          0.025568758478219104,
          0.025000109638348138,
          0.02442029961425781,
          0.023832043230493493,
          0.023238262453392975,
          0.02264200228264679,
          0.02204633376441575,
          0.021454250778175487,
          0.020868568057493434,
          0.020291827958758474,
          0.019726222779095314,
          0.019173538024080228,
          0.018635120096617646,
          0.018111869639059572,
          0.017604259461319296,
          0.017112373878386287,
          0.016635964581261712,
          0.01617451704070549,
          0.015727320985906006,
          0.015293538723397428,
          0.01487226590182293,
          0.01446258065737889,
          0.014063578718992017,
          0.013674393814412494,
          0.013294204402022574,
          0.012922229184205335,
          0.012557714902304234,
          0.01219992048747323,
          0.011848101719050486,
          0.011501500149802535,
          0.011159339269712952,
          0.010820829806407568,
          0.010485184831237981,
          0.01015164409176956,
          0.00981950585187468,
          0.009488163597470152,
          0.009157144337846502,
          0.00882614494431996,
          0.008495063029400233,
          0.008164019257937798,
          0.007833368646307643,
          0.007503699275446154,
          0.007175817834576238,
          0.0068507224361176525,
          0.006529564112763876,
          0.006213599248450569,
          0.005904135843798511,
          0.005602476929538275,
          0.005309864594709192,
          0.005027427987457312,
          0.004756138292900867,
          0.004496773131135148,
          0.004249892100583149,
          0.00401582437996454,
          0.003794668464052688,
          0.0035863033116586025,
          0.003390409490132149,
          0.003206498358536377,
          0.003033946974806975,
          0.002872036255054801,
          0.0027199899505456248,
          0.0025770122165797676,
          0.002442321889809452,
          0.002315182019523492,
          0.002194923664065925,
          0.002080963418988865,
          0.001972814550606324,
          0.0018700919417583308,
          0.0017725113046804855,
          0.0016798832816906676,
          0.001592103151989212,
          0.0015091369132185044,
          0.0014310045323554673,
          0.0013577611816062444,
          0.0012894773035462626,
          0.0012262183884862686,
          0.0011680253887523032,
          0.0011148967240168174,
          0.001066772829299828,
          0.0010235241431301488,
          0.0009849433127080225,
          0.0009507421994354615,
          0.0009205540065175134,
          0.0008939405364246947,
          0.0008704042453885019,
          0.0008494044264998885,
          0.0008303765557562898,
          0.0008127536067378982,
          0.0007959880022272289,
          0.0007795728373271686,
          0.0007630610790948537,
          0.0007460816118815373,
          0.0007283512360024427,
          0.0007096820149666277,
          0.000689983676302368,
          0.0006692610776881218,
          0.0006476070326815705,
          0.00062519103379962,
          0.0006022446062442174,
          0.0005790441698250863,
          0.0005558923801139238,
          0.0005330989651360288,
          0.0005109620739265164,
          0.0004897511103212784,
          0.0004696919406688831,
          0.0004509552384143407,
          0.00043364856286476605,
          0.00041781256686355234,
          0.00040342149463071215,
          0.0003903878766785305,
          0.00037857106760395685,
          0.0003677890222683077,
          0.0003578324859798907,
          0.00034848060430634604,
          0.00033951685511541255,
          0.0003307441816369013,
          0.0003219982663137071,
          0.00031315802865766057,
          0.0003041526458663787,
          0.00029496466495826954,
          0.00028562907652152666,
          0.0002762285267053316,
          0.0002668851294829007,
          0.0002577495818025021,
          0.00024898846138829244,
          0.00024077068879335998,
          0.00023325415753354208,
          0.0002265734818276414,
          0.00022082969010333526,
          0.00021608251820252623,
          0.0002123457461118491,
          0.0002095857938333594,
          0.00020772356259108317,
          0.0002066392917341683,
          0.0002061800114783902,
          0.00020616901614971906,
          0.00020641666830967272,
          0.0002067317752547916,
          0.00020693275824884962,
          0.0002068578622038714,
          0.0002063737284513549,
          0.0002053817728525293,
          0.00020382197047437558,
          0.00020167383821166268,
          0.00019895461673475335,
          0.00019571486866377426,
          0.00019203191425218275,
          0.00018800170132821073,
          0.0001837298355934205,
          0.00017932256599836446,
          0.000174878517809498,
          0.0001704818895276083,
          0.00016619768293563898,
          0.00016206933002503704,
          0.00015811883534701618,
          0.0001543492919456131,
          0.00015074938091707603,
          0.0001472992561292683,
          0.00014397707060405864,
          0.0001407653368963148,
          0.000137656339012293,
          0.00013465592632291463,
          0.00013178520860665838,
          0.00012907991483957648,
          0.00012658744905577645,
          0.00012436194361298625,
          0.0001224578429895676,
          0.00012092272337107177,
          0.00011979014557421565,
          0.00011907334162947704,
          0.0001187604494775809,
          0.00011881184688309112,
          0.0001191599147213436,
          0.0001197113073035333,
          0.00012035155230739863,
          0.00012095157346921192,
          0.00012137554976341164,
          0.00012148941290546431,
          0.00012116924966130134,
          0.00012030891639003097,
          0.00011882628149137474,
          0.00011666767079289517,
          0.00011381028041287299,
          0.00011026251835882507,
          0.00010606241816603057,
          0.00010127441697416713,
          9.598489390850052e-05,
          9.029691647679634e-05,
          8.432464370171426e-05,
          7.818779165261013e-05,
          7.200649115269527e-05,
          6.589677244719054e-05,
          5.9966811671791656e-05,
          5.431398173119912e-05,
          4.902267543072436e-05,
          4.4162817353004704e-05,
          3.978895496053223e-05,
          3.593981696316502e-05,
          3.263824342931039e-05,
          2.9891420870576327e-05,
          2.769138926443671e-05,
          2.601581965971537e-05,
          2.4829084747520646e-05,
          2.4083656444045856e-05,
          2.3721862075966763e-05,
          2.3678014290322075e-05,
          2.3880901419585122e-05,
          2.4256588437258165e-05,
          2.4731438684004573e-05,
          2.5235228603752344e-05,
          2.570419707135933e-05,
          2.6083852059998865e-05,
          2.6331353663338655e-05,
          2.641730546767837e-05,
          2.632681570854109e-05,
          2.605973344539174e-05,
          2.5630019450378103e-05,
          2.5064271781007834e-05,
          2.4399486661652855e-05,
          2.3680190946740824e-05,
          2.295512831372342e-05,
          2.227371374971389e-05,
          2.1682487525219868e-05,
          2.1221799811869348e-05,
          2.0922940878159987e-05,
          2.080590101343639e-05,
          2.0877901479781872e-05,
          2.1132785959737695e-05,
          2.155130459752387e-05,
          2.2102263451051433e-05,
          2.274445467524112e-05,
          2.3429230702727506e-05,
          2.4103542578252942e-05,
          2.471323160799347e-05,
          2.52063471998089e-05,
          2.553626392210653e-05,
          2.5664387958778035e-05
         ],
         "yaxis": "y"
        }
       ],
       "layout": {
        "barmode": "overlay",
        "height": 500,
        "hovermode": "closest",
        "legend": {
         "traceorder": "reversed"
        },
        "showlegend": false,
        "template": {
         "data": {
          "bar": [
           {
            "error_x": {
             "color": "#2a3f5f"
            },
            "error_y": {
             "color": "#2a3f5f"
            },
            "marker": {
             "line": {
              "color": "#E5ECF6",
              "width": 0.5
             }
            },
            "type": "bar"
           }
          ],
          "barpolar": [
           {
            "marker": {
             "line": {
              "color": "#E5ECF6",
              "width": 0.5
             }
            },
            "type": "barpolar"
           }
          ],
          "carpet": [
           {
            "aaxis": {
             "endlinecolor": "#2a3f5f",
             "gridcolor": "white",
             "linecolor": "white",
             "minorgridcolor": "white",
             "startlinecolor": "#2a3f5f"
            },
            "baxis": {
             "endlinecolor": "#2a3f5f",
             "gridcolor": "white",
             "linecolor": "white",
             "minorgridcolor": "white",
             "startlinecolor": "#2a3f5f"
            },
            "type": "carpet"
           }
          ],
          "choropleth": [
           {
            "colorbar": {
             "outlinewidth": 0,
             "ticks": ""
            },
            "type": "choropleth"
           }
          ],
          "contour": [
           {
            "colorbar": {
             "outlinewidth": 0,
             "ticks": ""
            },
            "colorscale": [
             [
              0,
              "#0d0887"
             ],
             [
              0.1111111111111111,
              "#46039f"
             ],
             [
              0.2222222222222222,
              "#7201a8"
             ],
             [
              0.3333333333333333,
              "#9c179e"
             ],
             [
              0.4444444444444444,
              "#bd3786"
             ],
             [
              0.5555555555555556,
              "#d8576b"
             ],
             [
              0.6666666666666666,
              "#ed7953"
             ],
             [
              0.7777777777777778,
              "#fb9f3a"
             ],
             [
              0.8888888888888888,
              "#fdca26"
             ],
             [
              1,
              "#f0f921"
             ]
            ],
            "type": "contour"
           }
          ],
          "contourcarpet": [
           {
            "colorbar": {
             "outlinewidth": 0,
             "ticks": ""
            },
            "type": "contourcarpet"
           }
          ],
          "heatmap": [
           {
            "colorbar": {
             "outlinewidth": 0,
             "ticks": ""
            },
            "colorscale": [
             [
              0,
              "#0d0887"
             ],
             [
              0.1111111111111111,
              "#46039f"
             ],
             [
              0.2222222222222222,
              "#7201a8"
             ],
             [
              0.3333333333333333,
              "#9c179e"
             ],
             [
              0.4444444444444444,
              "#bd3786"
             ],
             [
              0.5555555555555556,
              "#d8576b"
             ],
             [
              0.6666666666666666,
              "#ed7953"
             ],
             [
              0.7777777777777778,
              "#fb9f3a"
             ],
             [
              0.8888888888888888,
              "#fdca26"
             ],
             [
              1,
              "#f0f921"
             ]
            ],
            "type": "heatmap"
           }
          ],
          "heatmapgl": [
           {
            "colorbar": {
             "outlinewidth": 0,
             "ticks": ""
            },
            "colorscale": [
             [
              0,
              "#0d0887"
             ],
             [
              0.1111111111111111,
              "#46039f"
             ],
             [
              0.2222222222222222,
              "#7201a8"
             ],
             [
              0.3333333333333333,
              "#9c179e"
             ],
             [
              0.4444444444444444,
              "#bd3786"
             ],
             [
              0.5555555555555556,
              "#d8576b"
             ],
             [
              0.6666666666666666,
              "#ed7953"
             ],
             [
              0.7777777777777778,
              "#fb9f3a"
             ],
             [
              0.8888888888888888,
              "#fdca26"
             ],
             [
              1,
              "#f0f921"
             ]
            ],
            "type": "heatmapgl"
           }
          ],
          "histogram": [
           {
            "marker": {
             "colorbar": {
              "outlinewidth": 0,
              "ticks": ""
             }
            },
            "type": "histogram"
           }
          ],
          "histogram2d": [
           {
            "colorbar": {
             "outlinewidth": 0,
             "ticks": ""
            },
            "colorscale": [
             [
              0,
              "#0d0887"
             ],
             [
              0.1111111111111111,
              "#46039f"
             ],
             [
              0.2222222222222222,
              "#7201a8"
             ],
             [
              0.3333333333333333,
              "#9c179e"
             ],
             [
              0.4444444444444444,
              "#bd3786"
             ],
             [
              0.5555555555555556,
              "#d8576b"
             ],
             [
              0.6666666666666666,
              "#ed7953"
             ],
             [
              0.7777777777777778,
              "#fb9f3a"
             ],
             [
              0.8888888888888888,
              "#fdca26"
             ],
             [
              1,
              "#f0f921"
             ]
            ],
            "type": "histogram2d"
           }
          ],
          "histogram2dcontour": [
           {
            "colorbar": {
             "outlinewidth": 0,
             "ticks": ""
            },
            "colorscale": [
             [
              0,
              "#0d0887"
             ],
             [
              0.1111111111111111,
              "#46039f"
             ],
             [
              0.2222222222222222,
              "#7201a8"
             ],
             [
              0.3333333333333333,
              "#9c179e"
             ],
             [
              0.4444444444444444,
              "#bd3786"
             ],
             [
              0.5555555555555556,
              "#d8576b"
             ],
             [
              0.6666666666666666,
              "#ed7953"
             ],
             [
              0.7777777777777778,
              "#fb9f3a"
             ],
             [
              0.8888888888888888,
              "#fdca26"
             ],
             [
              1,
              "#f0f921"
             ]
            ],
            "type": "histogram2dcontour"
           }
          ],
          "mesh3d": [
           {
            "colorbar": {
             "outlinewidth": 0,
             "ticks": ""
            },
            "type": "mesh3d"
           }
          ],
          "parcoords": [
           {
            "line": {
             "colorbar": {
              "outlinewidth": 0,
              "ticks": ""
             }
            },
            "type": "parcoords"
           }
          ],
          "pie": [
           {
            "automargin": true,
            "type": "pie"
           }
          ],
          "scatter": [
           {
            "marker": {
             "colorbar": {
              "outlinewidth": 0,
              "ticks": ""
             }
            },
            "type": "scatter"
           }
          ],
          "scatter3d": [
           {
            "line": {
             "colorbar": {
              "outlinewidth": 0,
              "ticks": ""
             }
            },
            "marker": {
             "colorbar": {
              "outlinewidth": 0,
              "ticks": ""
             }
            },
            "type": "scatter3d"
           }
          ],
          "scattercarpet": [
           {
            "marker": {
             "colorbar": {
              "outlinewidth": 0,
              "ticks": ""
             }
            },
            "type": "scattercarpet"
           }
          ],
          "scattergeo": [
           {
            "marker": {
             "colorbar": {
              "outlinewidth": 0,
              "ticks": ""
             }
            },
            "type": "scattergeo"
           }
          ],
          "scattergl": [
           {
            "marker": {
             "colorbar": {
              "outlinewidth": 0,
              "ticks": ""
             }
            },
            "type": "scattergl"
           }
          ],
          "scattermapbox": [
           {
            "marker": {
             "colorbar": {
              "outlinewidth": 0,
              "ticks": ""
             }
            },
            "type": "scattermapbox"
           }
          ],
          "scatterpolar": [
           {
            "marker": {
             "colorbar": {
              "outlinewidth": 0,
              "ticks": ""
             }
            },
            "type": "scatterpolar"
           }
          ],
          "scatterpolargl": [
           {
            "marker": {
             "colorbar": {
              "outlinewidth": 0,
              "ticks": ""
             }
            },
            "type": "scatterpolargl"
           }
          ],
          "scatterternary": [
           {
            "marker": {
             "colorbar": {
              "outlinewidth": 0,
              "ticks": ""
             }
            },
            "type": "scatterternary"
           }
          ],
          "surface": [
           {
            "colorbar": {
             "outlinewidth": 0,
             "ticks": ""
            },
            "colorscale": [
             [
              0,
              "#0d0887"
             ],
             [
              0.1111111111111111,
              "#46039f"
             ],
             [
              0.2222222222222222,
              "#7201a8"
             ],
             [
              0.3333333333333333,
              "#9c179e"
             ],
             [
              0.4444444444444444,
              "#bd3786"
             ],
             [
              0.5555555555555556,
              "#d8576b"
             ],
             [
              0.6666666666666666,
              "#ed7953"
             ],
             [
              0.7777777777777778,
              "#fb9f3a"
             ],
             [
              0.8888888888888888,
              "#fdca26"
             ],
             [
              1,
              "#f0f921"
             ]
            ],
            "type": "surface"
           }
          ],
          "table": [
           {
            "cells": {
             "fill": {
              "color": "#EBF0F8"
             },
             "line": {
              "color": "white"
             }
            },
            "header": {
             "fill": {
              "color": "#C8D4E3"
             },
             "line": {
              "color": "white"
             }
            },
            "type": "table"
           }
          ]
         },
         "layout": {
          "annotationdefaults": {
           "arrowcolor": "#2a3f5f",
           "arrowhead": 0,
           "arrowwidth": 1
          },
          "coloraxis": {
           "colorbar": {
            "outlinewidth": 0,
            "ticks": ""
           }
          },
          "colorscale": {
           "diverging": [
            [
             0,
             "#8e0152"
            ],
            [
             0.1,
             "#c51b7d"
            ],
            [
             0.2,
             "#de77ae"
            ],
            [
             0.3,
             "#f1b6da"
            ],
            [
             0.4,
             "#fde0ef"
            ],
            [
             0.5,
             "#f7f7f7"
            ],
            [
             0.6,
             "#e6f5d0"
            ],
            [
             0.7,
             "#b8e186"
            ],
            [
             0.8,
             "#7fbc41"
            ],
            [
             0.9,
             "#4d9221"
            ],
            [
             1,
             "#276419"
            ]
           ],
           "sequential": [
            [
             0,
             "#0d0887"
            ],
            [
             0.1111111111111111,
             "#46039f"
            ],
            [
             0.2222222222222222,
             "#7201a8"
            ],
            [
             0.3333333333333333,
             "#9c179e"
            ],
            [
             0.4444444444444444,
             "#bd3786"
            ],
            [
             0.5555555555555556,
             "#d8576b"
            ],
            [
             0.6666666666666666,
             "#ed7953"
            ],
            [
             0.7777777777777778,
             "#fb9f3a"
            ],
            [
             0.8888888888888888,
             "#fdca26"
            ],
            [
             1,
             "#f0f921"
            ]
           ],
           "sequentialminus": [
            [
             0,
             "#0d0887"
            ],
            [
             0.1111111111111111,
             "#46039f"
            ],
            [
             0.2222222222222222,
             "#7201a8"
            ],
            [
             0.3333333333333333,
             "#9c179e"
            ],
            [
             0.4444444444444444,
             "#bd3786"
            ],
            [
             0.5555555555555556,
             "#d8576b"
            ],
            [
             0.6666666666666666,
             "#ed7953"
            ],
            [
             0.7777777777777778,
             "#fb9f3a"
            ],
            [
             0.8888888888888888,
             "#fdca26"
            ],
            [
             1,
             "#f0f921"
            ]
           ]
          },
          "colorway": [
           "#636efa",
           "#EF553B",
           "#00cc96",
           "#ab63fa",
           "#FFA15A",
           "#19d3f3",
           "#FF6692",
           "#B6E880",
           "#FF97FF",
           "#FECB52"
          ],
          "font": {
           "color": "#2a3f5f"
          },
          "geo": {
           "bgcolor": "white",
           "lakecolor": "white",
           "landcolor": "#E5ECF6",
           "showlakes": true,
           "showland": true,
           "subunitcolor": "white"
          },
          "hoverlabel": {
           "align": "left"
          },
          "hovermode": "closest",
          "mapbox": {
           "style": "light"
          },
          "paper_bgcolor": "white",
          "plot_bgcolor": "#E5ECF6",
          "polar": {
           "angularaxis": {
            "gridcolor": "white",
            "linecolor": "white",
            "ticks": ""
           },
           "bgcolor": "#E5ECF6",
           "radialaxis": {
            "gridcolor": "white",
            "linecolor": "white",
            "ticks": ""
           }
          },
          "scene": {
           "xaxis": {
            "backgroundcolor": "#E5ECF6",
            "gridcolor": "white",
            "gridwidth": 2,
            "linecolor": "white",
            "showbackground": true,
            "ticks": "",
            "zerolinecolor": "white"
           },
           "yaxis": {
            "backgroundcolor": "#E5ECF6",
            "gridcolor": "white",
            "gridwidth": 2,
            "linecolor": "white",
            "showbackground": true,
            "ticks": "",
            "zerolinecolor": "white"
           },
           "zaxis": {
            "backgroundcolor": "#E5ECF6",
            "gridcolor": "white",
            "gridwidth": 2,
            "linecolor": "white",
            "showbackground": true,
            "ticks": "",
            "zerolinecolor": "white"
           }
          },
          "shapedefaults": {
           "line": {
            "color": "#2a3f5f"
           }
          },
          "ternary": {
           "aaxis": {
            "gridcolor": "white",
            "linecolor": "white",
            "ticks": ""
           },
           "baxis": {
            "gridcolor": "white",
            "linecolor": "white",
            "ticks": ""
           },
           "bgcolor": "#E5ECF6",
           "caxis": {
            "gridcolor": "white",
            "linecolor": "white",
            "ticks": ""
           }
          },
          "title": {
           "x": 0.05
          },
          "xaxis": {
           "automargin": true,
           "gridcolor": "white",
           "linecolor": "white",
           "ticks": "",
           "title": {
            "standoff": 15
           },
           "zerolinecolor": "white",
           "zerolinewidth": 2
          },
          "yaxis": {
           "automargin": true,
           "gridcolor": "white",
           "linecolor": "white",
           "ticks": "",
           "title": {
            "standoff": 15
           },
           "zerolinecolor": "white",
           "zerolinewidth": 2
          }
         }
        },
        "title": {
         "text": "PDF",
         "x": 0.5,
         "xanchor": "center",
         "y": 0.9,
         "yanchor": "top"
        },
        "width": 500,
        "xaxis": {
         "anchor": "y2",
         "domain": [
          0,
          1
         ],
         "title": {
          "text": "Length of a headline"
         },
         "zeroline": false
        },
        "yaxis": {
         "anchor": "free",
         "domain": [
          0,
          1
         ],
         "position": 0,
         "title": {
          "text": "Probability"
         }
        }
       }
      },
      "text/html": [
       "<div>\n",
       "        \n",
       "        \n",
       "            <div id=\"a1cdefb1-5c69-4d31-b22e-a6e22a1cd61a\" class=\"plotly-graph-div\" style=\"height:500px; width:500px;\"></div>\n",
       "            <script type=\"text/javascript\">\n",
       "                require([\"plotly\"], function(Plotly) {\n",
       "                    window.PLOTLYENV=window.PLOTLYENV || {};\n",
       "                    \n",
       "                if (document.getElementById(\"a1cdefb1-5c69-4d31-b22e-a6e22a1cd61a\")) {\n",
       "                    Plotly.newPlot(\n",
       "                        'a1cdefb1-5c69-4d31-b22e-a6e22a1cd61a',\n",
       "                        [{\"legendgroup\": \"ht\", \"marker\": {\"color\": \"rgb(31, 119, 180)\"}, \"mode\": \"lines\", \"name\": \"ht\", \"showlegend\": true, \"type\": \"scatter\", \"x\": [25.0, 25.21, 25.42, 25.63, 25.84, 26.05, 26.26, 26.47, 26.68, 26.89, 27.1, 27.31, 27.52, 27.73, 27.94, 28.15, 28.36, 28.57, 28.78, 28.990000000000002, 29.2, 29.41, 29.62, 29.83, 30.04, 30.25, 30.46, 30.67, 30.88, 31.09, 31.3, 31.509999999999998, 31.72, 31.93, 32.14, 32.35, 32.56, 32.769999999999996, 32.980000000000004, 33.19, 33.4, 33.61, 33.82, 34.03, 34.24, 34.45, 34.66, 34.87, 35.08, 35.29, 35.5, 35.71, 35.92, 36.13, 36.34, 36.55, 36.76, 36.97, 37.18, 37.39, 37.6, 37.81, 38.019999999999996, 38.230000000000004, 38.44, 38.65, 38.86, 39.07, 39.28, 39.49, 39.7, 39.91, 40.12, 40.33, 40.54, 40.75, 40.96, 41.17, 41.379999999999995, 41.59, 41.8, 42.010000000000005, 42.22, 42.43, 42.64, 42.85, 43.06, 43.269999999999996, 43.480000000000004, 43.69, 43.9, 44.11, 44.32, 44.53, 44.739999999999995, 44.95, 45.16, 45.370000000000005, 45.58, 45.79, 46.0, 46.21, 46.42, 46.629999999999995, 46.84, 47.05, 47.260000000000005, 47.47, 47.68, 47.89, 48.1, 48.31, 48.519999999999996, 48.730000000000004, 48.94, 49.15, 49.36, 49.57, 49.78, 49.989999999999995, 50.2, 50.41, 50.620000000000005, 50.83, 51.04, 51.25, 51.46, 51.67, 51.879999999999995, 52.09, 52.3, 52.510000000000005, 52.72, 52.93, 53.14, 53.35, 53.56, 53.769999999999996, 53.980000000000004, 54.19, 54.4, 54.61, 54.82, 55.03, 55.239999999999995, 55.45, 55.66, 55.870000000000005, 56.08, 56.29, 56.5, 56.71, 56.92, 57.13, 57.34, 57.55, 57.76, 57.97, 58.18, 58.39, 58.6, 58.81, 59.02, 59.23, 59.44, 59.65, 59.86, 60.07, 60.28, 60.49, 60.7, 60.91, 61.12, 61.33, 61.54, 61.75, 61.96, 62.17, 62.38, 62.59, 62.8, 63.01, 63.22, 63.43, 63.64, 63.85, 64.06, 64.27000000000001, 64.47999999999999, 64.69, 64.9, 65.11, 65.32, 65.53, 65.74000000000001, 65.95, 66.16, 66.37, 66.58, 66.78999999999999, 67.0, 67.21000000000001, 67.42, 67.63, 67.84, 68.05, 68.25999999999999, 68.47, 68.68, 68.89, 69.1, 69.31, 69.52000000000001, 69.72999999999999, 69.94, 70.15, 70.36, 70.57, 70.78, 70.99000000000001, 71.2, 71.41, 71.62, 71.83, 72.03999999999999, 72.25, 72.46000000000001, 72.67, 72.88, 73.09, 73.3, 73.50999999999999, 73.72, 73.93, 74.14, 74.35, 74.56, 74.77000000000001, 74.97999999999999, 75.19, 75.4, 75.61, 75.82, 76.03, 76.24000000000001, 76.45, 76.66, 76.87, 77.08, 77.28999999999999, 77.5, 77.71000000000001, 77.92, 78.13, 78.34, 78.55, 78.75999999999999, 78.97, 79.18, 79.39, 79.6, 79.81, 80.02000000000001, 80.22999999999999, 80.44, 80.65, 80.86, 81.07, 81.28, 81.49000000000001, 81.7, 81.91, 82.12, 82.33, 82.53999999999999, 82.75, 82.96000000000001, 83.17, 83.38, 83.59, 83.8, 84.00999999999999, 84.22, 84.43, 84.64, 84.85, 85.06, 85.27000000000001, 85.47999999999999, 85.69, 85.9, 86.11, 86.32, 86.53, 86.74000000000001, 86.95, 87.16, 87.37, 87.58, 87.78999999999999, 88.0, 88.21000000000001, 88.42, 88.63, 88.84, 89.05, 89.26, 89.47, 89.68, 89.89, 90.1, 90.31, 90.52, 90.73, 90.94, 91.15, 91.36, 91.57, 91.78, 91.99, 92.2, 92.41, 92.62, 92.83, 93.04, 93.25, 93.46, 93.67, 93.88, 94.09, 94.3, 94.51, 94.72, 94.93, 95.14, 95.35, 95.56, 95.77, 95.98, 96.19, 96.4, 96.61, 96.82, 97.03, 97.24, 97.45, 97.66, 97.87, 98.08, 98.29, 98.5, 98.71, 98.92, 99.13, 99.34, 99.55, 99.76, 99.97, 100.18, 100.39, 100.6, 100.81, 101.02, 101.23, 101.44, 101.65, 101.86, 102.07, 102.28, 102.49, 102.7, 102.91, 103.12, 103.33, 103.54, 103.75, 103.96, 104.17, 104.38, 104.59, 104.8, 105.01, 105.22, 105.43, 105.64, 105.85, 106.06, 106.27, 106.48, 106.69, 106.9, 107.11, 107.32, 107.53, 107.74, 107.95, 108.16, 108.37, 108.58, 108.79, 109.0, 109.21, 109.42, 109.63, 109.84, 110.05, 110.26, 110.47, 110.68, 110.89, 111.1, 111.31, 111.52, 111.73, 111.94, 112.15, 112.36, 112.57, 112.78, 112.99, 113.2, 113.41, 113.62, 113.83, 114.04, 114.25, 114.46, 114.67, 114.88, 115.09, 115.3, 115.51, 115.72, 115.93, 116.14, 116.35, 116.56, 116.77, 116.98, 117.19, 117.4, 117.61, 117.82, 118.03, 118.24, 118.45, 118.66, 118.87, 119.08, 119.29, 119.5, 119.71, 119.92, 120.13, 120.34, 120.55, 120.76, 120.97, 121.18, 121.39, 121.6, 121.81, 122.02, 122.23, 122.44, 122.65, 122.86, 123.07, 123.28, 123.49, 123.7, 123.91, 124.12, 124.33, 124.54, 124.75, 124.96, 125.17, 125.38, 125.59, 125.8, 126.01, 126.22, 126.43, 126.64, 126.85, 127.06, 127.27, 127.48, 127.69, 127.9, 128.11, 128.32, 128.53, 128.74, 128.95, 129.16, 129.37, 129.57999999999998, 129.79000000000002], \"xaxis\": \"x\", \"y\": [9.761758669784215e-05, 0.00010325831164921104, 0.00010843298459129327, 0.00011313553202672725, 0.00011739554705294587, 0.0001212781925078285, 0.00012488160912757553, 0.00012833195525104214, 0.00013177643189014803, 0.0001353748489799861, 0.0001392904418264581, 0.0001436807323692511, 0.00014868923626863337, 0.00015443874126447928, 0.00016102673140292538, 0.00016852332096544401, 0.00017697181358664383, 0.00018639174269529787, 0.00019678400672695862, 0.00020813751202780875, 0.00022043659839849893, 0.00023366845992195293, 0.00024782979166326974, 0.0002629319869246314, 0.00027900436808591154, 0.00029609513870774474, 0.0003142699738284915, 0.00033360839639010503, 0.0003541982989159284, 0.0003761291427338002, 0.00039948448880553123, 0.00042433457675755914, 0.0004507296697575682, 0.00047869482521141607, 0.0005082266416629184, 0.0005392923804376615, 0.0005718316778924335, 0.00060576086283062, 0.0006409796861002982, 0.0006773800678026518, 0.0007148562837941942, 0.0007533158588123271, 0.0007926903196818816, 0.000832944898988727, 0.0008740862762707753, 0.0009161675068253668, 0.0009592894209217609, 0.001003597977262211, 0.0010492773171879276, 0.0010965385775688291, 0.0011456048617448982, 0.0011966931152622188, 0.0012499939786775143, 0.0013056509639736604, 0.001363740495669004, 0.0014242544477831795, 0.0014870867751478577, 0.001552025672616528, 0.0016187523995630359, 0.001686847492183293, 0.0017558045765632012, 0.0018250514258213715, 0.001893977317997249, 0.001961965196437055, 0.0020284266617053436, 0.0020928374813028124, 0.0021547711309929415, 0.002213927907407209, 0.002270157387533109, 0.0023234724490875363, 0.0023740536784553823, 0.0024222437319847486, 0.002468532017805132, 0.0025135308541624247, 0.0025579449587034065, 0.002602536659068421, 0.0026480895309619694, 0.0026953732301191395, 0.0027451120812465087, 0.0027979595414514384, 0.002854480016790886, 0.002915138749240915, 0.0029802996917890727, 0.0030502305384277678, 0.003125113452383847, 0.0032050596009841345, 0.003290125395406738, 0.0033803283564295965, 0.003475660764052237, 0.0035760996575330086, 0.0036816122753240556, 0.0037921565971155468, 0.00390767721018533, 0.004028097216372367, 0.004153307285671966, 0.004283153225892823, 0.00441742356942755, 0.004555838685686468, 0.004698042827815268, 0.004843600335852922, 0.004991996966339557, 0.005142647018395636, 0.00529490659197093, 0.005448092954861862, 0.005601509618588829, 0.005754476337090127, 0.005906362857341758, 0.0060566248836581215, 0.006204840390061564, 0.0063507441559469266, 0.006494258241045016, 0.00663551608795394, 0.00677487807092594, 0.006912936614930909, 0.007050509491608969, 0.0071886205433079635, 0.0073284678589322005, 0.00747138027426758, 0.007618763929571062, 0.00777204141564767, 0.007932586703422562, 0.008101659516219632, 0.008280343019261576, 0.00846948863955689, 0.008669671488645662, 0.008881159263509304, 0.009103896693224567, 0.009337506644419916, 0.009581307971816794, 0.0098343491784949, 0.01009545600655939, 0.010363290273910301, 0.010636416652497609, 0.010913373675907506, 0.011192745080378588, 0.011473227619748633, 0.011753691736740037, 0.01203323189875494, 0.012311203990691558, 0.012587247873389527, 0.012861294036193877, 0.013133554165455388, 0.013404496382548745, 0.01367480683298826, 0.013945340181458665, 0.014217062326596945, 0.014490989229298283, 0.014768126084912342, 0.015049411107787474, 0.015335667900042671, 0.01562756973753799, 0.015925618152835937, 0.016230136994228008, 0.016541281794396057, 0.016859062921967375, 0.017183379756983762, 0.017514062164769452, 0.01785091495490541, 0.018193760874126694, 0.01854247801086286, 0.01889702824275595, 0.019257474439761987, 0.019623985404989067, 0.01999682883107317, 0.02037635371011678, 0.020762964522700465, 0.02115709005291841, 0.02155914979521025, 0.021969520658673754, 0.022388506113397006, 0.022816309178479138, 0.023253009859076364, 0.023698546932377707, 0.024152703467159583, 0.024615095204686126, 0.025085160947010545, 0.02556215436005776, 0.026045137030872002, 0.026532973123543715, 0.027024326452204945, 0.02751766113917139, 0.028011247185318965, 0.028503172217300417, 0.028991360399367123, 0.029473599046849916, 0.029947572917581728, 0.03041090556071103, 0.030861206540216037, 0.031296122879416806, 0.03171339272826884, 0.032110899050058955, 0.03248672105222598, 0.03283918112957733, 0.03316688522641146, 0.03346875474116772, 0.03374404838726986, 0.0339923727913603, 0.034213681066247364, 0.034408259150693433, 0.034576700361412936, 0.03471986933513433, 0.034838857306742035, 0.03493493140502996, 0.035009481263007014, 0.03506396663960632, 0.035099869846005084, 0.0351186564985518, 0.03512174745673863, 0.03511050377380058, 0.03508622516799524, 0.035050161042149905, 0.035003531601867276, 0.034947555330075604, 0.034883478141827635, 0.03481259911120052, 0.03473628782074216, 0.03465598915191423, 0.034573212653510856, 0.03448950536042743, 0.03440640889251269, 0.034325403609304014, 0.0342478442891446, 0.034174893021948954, 0.034107455589238424, 0.0340461274669016, 0.03399115473179586, 0.03394241368298545, 0.0338994110840664, 0.03386130483422514, 0.0338269428466241, 0.033794916205301395, 0.033763621490200436, 0.03373132663232513, 0.03369623482243932, 0.03365654178638745, 0.03361048301286217, 0.03355636906990357, 0.03349260874166549, 0.03341772113261202, 0.03333033894003941, 0.03322920567349602, 0.03311316966962091, 0.032981177364711664, 0.0328322675671594, 0.0326655675869651, 0.03248029121557321, 0.03227573787612208, 0.03205129190723145, 0.03180642096275049, 0.03154067289115714, 0.03125367111621292, 0.0309451093341004, 0.030614747099714783, 0.030262408423061344, 0.029887985691917855, 0.02949145098988988, 0.029072876172377173, 0.028632461957088427, 0.028170574912188915, 0.027687789769248308, 0.02718493316267165, 0.02666312391157666, 0.02612380448881394, 0.025568758478219104, 0.025000109638348138, 0.02442029961425781, 0.023832043230493493, 0.023238262453392975, 0.02264200228264679, 0.02204633376441575, 0.021454250778175487, 0.020868568057493434, 0.020291827958758474, 0.019726222779095314, 0.019173538024080228, 0.018635120096617646, 0.018111869639059572, 0.017604259461319296, 0.017112373878386287, 0.016635964581261712, 0.01617451704070549, 0.015727320985906006, 0.015293538723397428, 0.01487226590182293, 0.01446258065737889, 0.014063578718992017, 0.013674393814412494, 0.013294204402022574, 0.012922229184205335, 0.012557714902304234, 0.01219992048747323, 0.011848101719050486, 0.011501500149802535, 0.011159339269712952, 0.010820829806407568, 0.010485184831237981, 0.01015164409176956, 0.00981950585187468, 0.009488163597470152, 0.009157144337846502, 0.00882614494431996, 0.008495063029400233, 0.008164019257937798, 0.007833368646307643, 0.007503699275446154, 0.007175817834576238, 0.0068507224361176525, 0.006529564112763876, 0.006213599248450569, 0.005904135843798511, 0.005602476929538275, 0.005309864594709192, 0.005027427987457312, 0.004756138292900867, 0.004496773131135148, 0.004249892100583149, 0.00401582437996454, 0.003794668464052688, 0.0035863033116586025, 0.003390409490132149, 0.003206498358536377, 0.003033946974806975, 0.002872036255054801, 0.0027199899505456248, 0.0025770122165797676, 0.002442321889809452, 0.002315182019523492, 0.002194923664065925, 0.002080963418988865, 0.001972814550606324, 0.0018700919417583308, 0.0017725113046804855, 0.0016798832816906676, 0.001592103151989212, 0.0015091369132185044, 0.0014310045323554673, 0.0013577611816062444, 0.0012894773035462626, 0.0012262183884862686, 0.0011680253887523032, 0.0011148967240168174, 0.001066772829299828, 0.0010235241431301488, 0.0009849433127080225, 0.0009507421994354615, 0.0009205540065175134, 0.0008939405364246947, 0.0008704042453885019, 0.0008494044264998885, 0.0008303765557562898, 0.0008127536067378982, 0.0007959880022272289, 0.0007795728373271686, 0.0007630610790948537, 0.0007460816118815373, 0.0007283512360024427, 0.0007096820149666277, 0.000689983676302368, 0.0006692610776881218, 0.0006476070326815705, 0.00062519103379962, 0.0006022446062442174, 0.0005790441698250863, 0.0005558923801139238, 0.0005330989651360288, 0.0005109620739265164, 0.0004897511103212784, 0.0004696919406688831, 0.0004509552384143407, 0.00043364856286476605, 0.00041781256686355234, 0.00040342149463071215, 0.0003903878766785305, 0.00037857106760395685, 0.0003677890222683077, 0.0003578324859798907, 0.00034848060430634604, 0.00033951685511541255, 0.0003307441816369013, 0.0003219982663137071, 0.00031315802865766057, 0.0003041526458663787, 0.00029496466495826954, 0.00028562907652152666, 0.0002762285267053316, 0.0002668851294829007, 0.0002577495818025021, 0.00024898846138829244, 0.00024077068879335998, 0.00023325415753354208, 0.0002265734818276414, 0.00022082969010333526, 0.00021608251820252623, 0.0002123457461118491, 0.0002095857938333594, 0.00020772356259108317, 0.0002066392917341683, 0.0002061800114783902, 0.00020616901614971906, 0.00020641666830967272, 0.0002067317752547916, 0.00020693275824884962, 0.0002068578622038714, 0.0002063737284513549, 0.0002053817728525293, 0.00020382197047437558, 0.00020167383821166268, 0.00019895461673475335, 0.00019571486866377426, 0.00019203191425218275, 0.00018800170132821073, 0.0001837298355934205, 0.00017932256599836446, 0.000174878517809498, 0.0001704818895276083, 0.00016619768293563898, 0.00016206933002503704, 0.00015811883534701618, 0.0001543492919456131, 0.00015074938091707603, 0.0001472992561292683, 0.00014397707060405864, 0.0001407653368963148, 0.000137656339012293, 0.00013465592632291463, 0.00013178520860665838, 0.00012907991483957648, 0.00012658744905577645, 0.00012436194361298625, 0.0001224578429895676, 0.00012092272337107177, 0.00011979014557421565, 0.00011907334162947704, 0.0001187604494775809, 0.00011881184688309112, 0.0001191599147213436, 0.0001197113073035333, 0.00012035155230739863, 0.00012095157346921192, 0.00012137554976341164, 0.00012148941290546431, 0.00012116924966130134, 0.00012030891639003097, 0.00011882628149137474, 0.00011666767079289517, 0.00011381028041287299, 0.00011026251835882507, 0.00010606241816603057, 0.00010127441697416713, 9.598489390850052e-05, 9.029691647679634e-05, 8.432464370171426e-05, 7.818779165261013e-05, 7.200649115269527e-05, 6.589677244719054e-05, 5.9966811671791656e-05, 5.431398173119912e-05, 4.902267543072436e-05, 4.4162817353004704e-05, 3.978895496053223e-05, 3.593981696316502e-05, 3.263824342931039e-05, 2.9891420870576327e-05, 2.769138926443671e-05, 2.601581965971537e-05, 2.4829084747520646e-05, 2.4083656444045856e-05, 2.3721862075966763e-05, 2.3678014290322075e-05, 2.3880901419585122e-05, 2.4256588437258165e-05, 2.4731438684004573e-05, 2.5235228603752344e-05, 2.570419707135933e-05, 2.6083852059998865e-05, 2.6331353663338655e-05, 2.641730546767837e-05, 2.632681570854109e-05, 2.605973344539174e-05, 2.5630019450378103e-05, 2.5064271781007834e-05, 2.4399486661652855e-05, 2.3680190946740824e-05, 2.295512831372342e-05, 2.227371374971389e-05, 2.1682487525219868e-05, 2.1221799811869348e-05, 2.0922940878159987e-05, 2.080590101343639e-05, 2.0877901479781872e-05, 2.1132785959737695e-05, 2.155130459752387e-05, 2.2102263451051433e-05, 2.274445467524112e-05, 2.3429230702727506e-05, 2.4103542578252942e-05, 2.471323160799347e-05, 2.52063471998089e-05, 2.553626392210653e-05, 2.5664387958778035e-05], \"yaxis\": \"y\"}],\n",
       "                        {\"barmode\": \"overlay\", \"height\": 500, \"hovermode\": \"closest\", \"legend\": {\"traceorder\": \"reversed\"}, \"showlegend\": false, \"template\": {\"data\": {\"bar\": [{\"error_x\": {\"color\": \"#2a3f5f\"}, \"error_y\": {\"color\": \"#2a3f5f\"}, \"marker\": {\"line\": {\"color\": \"#E5ECF6\", \"width\": 0.5}}, \"type\": \"bar\"}], \"barpolar\": [{\"marker\": {\"line\": {\"color\": \"#E5ECF6\", \"width\": 0.5}}, \"type\": \"barpolar\"}], \"carpet\": [{\"aaxis\": {\"endlinecolor\": \"#2a3f5f\", \"gridcolor\": \"white\", \"linecolor\": \"white\", \"minorgridcolor\": \"white\", \"startlinecolor\": \"#2a3f5f\"}, \"baxis\": {\"endlinecolor\": \"#2a3f5f\", \"gridcolor\": \"white\", \"linecolor\": \"white\", \"minorgridcolor\": \"white\", \"startlinecolor\": \"#2a3f5f\"}, \"type\": \"carpet\"}], \"choropleth\": [{\"colorbar\": {\"outlinewidth\": 0, \"ticks\": \"\"}, \"type\": \"choropleth\"}], \"contour\": [{\"colorbar\": {\"outlinewidth\": 0, \"ticks\": \"\"}, \"colorscale\": [[0.0, \"#0d0887\"], [0.1111111111111111, \"#46039f\"], [0.2222222222222222, \"#7201a8\"], [0.3333333333333333, \"#9c179e\"], [0.4444444444444444, \"#bd3786\"], [0.5555555555555556, \"#d8576b\"], [0.6666666666666666, \"#ed7953\"], [0.7777777777777778, \"#fb9f3a\"], [0.8888888888888888, \"#fdca26\"], [1.0, \"#f0f921\"]], \"type\": \"contour\"}], \"contourcarpet\": [{\"colorbar\": {\"outlinewidth\": 0, \"ticks\": \"\"}, \"type\": \"contourcarpet\"}], \"heatmap\": [{\"colorbar\": {\"outlinewidth\": 0, \"ticks\": \"\"}, \"colorscale\": [[0.0, \"#0d0887\"], [0.1111111111111111, \"#46039f\"], [0.2222222222222222, \"#7201a8\"], [0.3333333333333333, \"#9c179e\"], [0.4444444444444444, \"#bd3786\"], [0.5555555555555556, \"#d8576b\"], [0.6666666666666666, \"#ed7953\"], [0.7777777777777778, \"#fb9f3a\"], [0.8888888888888888, \"#fdca26\"], [1.0, \"#f0f921\"]], \"type\": \"heatmap\"}], \"heatmapgl\": [{\"colorbar\": {\"outlinewidth\": 0, \"ticks\": \"\"}, \"colorscale\": [[0.0, \"#0d0887\"], [0.1111111111111111, \"#46039f\"], [0.2222222222222222, \"#7201a8\"], [0.3333333333333333, \"#9c179e\"], [0.4444444444444444, \"#bd3786\"], [0.5555555555555556, \"#d8576b\"], [0.6666666666666666, \"#ed7953\"], [0.7777777777777778, \"#fb9f3a\"], [0.8888888888888888, \"#fdca26\"], [1.0, \"#f0f921\"]], \"type\": \"heatmapgl\"}], \"histogram\": [{\"marker\": {\"colorbar\": {\"outlinewidth\": 0, \"ticks\": \"\"}}, \"type\": \"histogram\"}], \"histogram2d\": [{\"colorbar\": {\"outlinewidth\": 0, \"ticks\": \"\"}, \"colorscale\": [[0.0, \"#0d0887\"], [0.1111111111111111, \"#46039f\"], [0.2222222222222222, \"#7201a8\"], [0.3333333333333333, \"#9c179e\"], [0.4444444444444444, \"#bd3786\"], [0.5555555555555556, \"#d8576b\"], [0.6666666666666666, \"#ed7953\"], [0.7777777777777778, \"#fb9f3a\"], [0.8888888888888888, \"#fdca26\"], [1.0, \"#f0f921\"]], \"type\": \"histogram2d\"}], \"histogram2dcontour\": [{\"colorbar\": {\"outlinewidth\": 0, \"ticks\": \"\"}, \"colorscale\": [[0.0, \"#0d0887\"], [0.1111111111111111, \"#46039f\"], [0.2222222222222222, \"#7201a8\"], [0.3333333333333333, \"#9c179e\"], [0.4444444444444444, \"#bd3786\"], [0.5555555555555556, \"#d8576b\"], [0.6666666666666666, \"#ed7953\"], [0.7777777777777778, \"#fb9f3a\"], [0.8888888888888888, \"#fdca26\"], [1.0, \"#f0f921\"]], \"type\": \"histogram2dcontour\"}], \"mesh3d\": [{\"colorbar\": {\"outlinewidth\": 0, \"ticks\": \"\"}, \"type\": \"mesh3d\"}], \"parcoords\": [{\"line\": {\"colorbar\": {\"outlinewidth\": 0, \"ticks\": \"\"}}, \"type\": \"parcoords\"}], \"pie\": [{\"automargin\": true, \"type\": \"pie\"}], \"scatter\": [{\"marker\": {\"colorbar\": {\"outlinewidth\": 0, \"ticks\": \"\"}}, \"type\": \"scatter\"}], \"scatter3d\": [{\"line\": {\"colorbar\": {\"outlinewidth\": 0, \"ticks\": \"\"}}, \"marker\": {\"colorbar\": {\"outlinewidth\": 0, \"ticks\": \"\"}}, \"type\": \"scatter3d\"}], \"scattercarpet\": [{\"marker\": {\"colorbar\": {\"outlinewidth\": 0, \"ticks\": \"\"}}, \"type\": \"scattercarpet\"}], \"scattergeo\": [{\"marker\": {\"colorbar\": {\"outlinewidth\": 0, \"ticks\": \"\"}}, \"type\": \"scattergeo\"}], \"scattergl\": [{\"marker\": {\"colorbar\": {\"outlinewidth\": 0, \"ticks\": \"\"}}, \"type\": \"scattergl\"}], \"scattermapbox\": [{\"marker\": {\"colorbar\": {\"outlinewidth\": 0, \"ticks\": \"\"}}, \"type\": \"scattermapbox\"}], \"scatterpolar\": [{\"marker\": {\"colorbar\": {\"outlinewidth\": 0, \"ticks\": \"\"}}, \"type\": \"scatterpolar\"}], \"scatterpolargl\": [{\"marker\": {\"colorbar\": {\"outlinewidth\": 0, \"ticks\": \"\"}}, \"type\": \"scatterpolargl\"}], \"scatterternary\": [{\"marker\": {\"colorbar\": {\"outlinewidth\": 0, \"ticks\": \"\"}}, \"type\": \"scatterternary\"}], \"surface\": [{\"colorbar\": {\"outlinewidth\": 0, \"ticks\": \"\"}, \"colorscale\": [[0.0, \"#0d0887\"], [0.1111111111111111, \"#46039f\"], [0.2222222222222222, \"#7201a8\"], [0.3333333333333333, \"#9c179e\"], [0.4444444444444444, \"#bd3786\"], [0.5555555555555556, \"#d8576b\"], [0.6666666666666666, \"#ed7953\"], [0.7777777777777778, \"#fb9f3a\"], [0.8888888888888888, \"#fdca26\"], [1.0, \"#f0f921\"]], \"type\": \"surface\"}], \"table\": [{\"cells\": {\"fill\": {\"color\": \"#EBF0F8\"}, \"line\": {\"color\": \"white\"}}, \"header\": {\"fill\": {\"color\": \"#C8D4E3\"}, \"line\": {\"color\": \"white\"}}, \"type\": \"table\"}]}, \"layout\": {\"annotationdefaults\": {\"arrowcolor\": \"#2a3f5f\", \"arrowhead\": 0, \"arrowwidth\": 1}, \"coloraxis\": {\"colorbar\": {\"outlinewidth\": 0, \"ticks\": \"\"}}, \"colorscale\": {\"diverging\": [[0, \"#8e0152\"], [0.1, \"#c51b7d\"], [0.2, \"#de77ae\"], [0.3, \"#f1b6da\"], [0.4, \"#fde0ef\"], [0.5, \"#f7f7f7\"], [0.6, \"#e6f5d0\"], [0.7, \"#b8e186\"], [0.8, \"#7fbc41\"], [0.9, \"#4d9221\"], [1, \"#276419\"]], \"sequential\": [[0.0, \"#0d0887\"], [0.1111111111111111, \"#46039f\"], [0.2222222222222222, \"#7201a8\"], [0.3333333333333333, \"#9c179e\"], [0.4444444444444444, \"#bd3786\"], [0.5555555555555556, \"#d8576b\"], [0.6666666666666666, \"#ed7953\"], [0.7777777777777778, \"#fb9f3a\"], [0.8888888888888888, \"#fdca26\"], [1.0, \"#f0f921\"]], \"sequentialminus\": [[0.0, \"#0d0887\"], [0.1111111111111111, \"#46039f\"], [0.2222222222222222, \"#7201a8\"], [0.3333333333333333, \"#9c179e\"], [0.4444444444444444, \"#bd3786\"], [0.5555555555555556, \"#d8576b\"], [0.6666666666666666, \"#ed7953\"], [0.7777777777777778, \"#fb9f3a\"], [0.8888888888888888, \"#fdca26\"], [1.0, \"#f0f921\"]]}, \"colorway\": [\"#636efa\", \"#EF553B\", \"#00cc96\", \"#ab63fa\", \"#FFA15A\", \"#19d3f3\", \"#FF6692\", \"#B6E880\", \"#FF97FF\", \"#FECB52\"], \"font\": {\"color\": \"#2a3f5f\"}, \"geo\": {\"bgcolor\": \"white\", \"lakecolor\": \"white\", \"landcolor\": \"#E5ECF6\", \"showlakes\": true, \"showland\": true, \"subunitcolor\": \"white\"}, \"hoverlabel\": {\"align\": \"left\"}, \"hovermode\": \"closest\", \"mapbox\": {\"style\": \"light\"}, \"paper_bgcolor\": \"white\", \"plot_bgcolor\": \"#E5ECF6\", \"polar\": {\"angularaxis\": {\"gridcolor\": \"white\", \"linecolor\": \"white\", \"ticks\": \"\"}, \"bgcolor\": \"#E5ECF6\", \"radialaxis\": {\"gridcolor\": \"white\", \"linecolor\": \"white\", \"ticks\": \"\"}}, \"scene\": {\"xaxis\": {\"backgroundcolor\": \"#E5ECF6\", \"gridcolor\": \"white\", \"gridwidth\": 2, \"linecolor\": \"white\", \"showbackground\": true, \"ticks\": \"\", \"zerolinecolor\": \"white\"}, \"yaxis\": {\"backgroundcolor\": \"#E5ECF6\", \"gridcolor\": \"white\", \"gridwidth\": 2, \"linecolor\": \"white\", \"showbackground\": true, \"ticks\": \"\", \"zerolinecolor\": \"white\"}, \"zaxis\": {\"backgroundcolor\": \"#E5ECF6\", \"gridcolor\": \"white\", \"gridwidth\": 2, \"linecolor\": \"white\", \"showbackground\": true, \"ticks\": \"\", \"zerolinecolor\": \"white\"}}, \"shapedefaults\": {\"line\": {\"color\": \"#2a3f5f\"}}, \"ternary\": {\"aaxis\": {\"gridcolor\": \"white\", \"linecolor\": \"white\", \"ticks\": \"\"}, \"baxis\": {\"gridcolor\": \"white\", \"linecolor\": \"white\", \"ticks\": \"\"}, \"bgcolor\": \"#E5ECF6\", \"caxis\": {\"gridcolor\": \"white\", \"linecolor\": \"white\", \"ticks\": \"\"}}, \"title\": {\"x\": 0.05}, \"xaxis\": {\"automargin\": true, \"gridcolor\": \"white\", \"linecolor\": \"white\", \"ticks\": \"\", \"title\": {\"standoff\": 15}, \"zerolinecolor\": \"white\", \"zerolinewidth\": 2}, \"yaxis\": {\"automargin\": true, \"gridcolor\": \"white\", \"linecolor\": \"white\", \"ticks\": \"\", \"title\": {\"standoff\": 15}, \"zerolinecolor\": \"white\", \"zerolinewidth\": 2}}}, \"title\": {\"text\": \"PDF\", \"x\": 0.5, \"xanchor\": \"center\", \"y\": 0.9, \"yanchor\": \"top\"}, \"width\": 500, \"xaxis\": {\"anchor\": \"y2\", \"domain\": [0.0, 1.0], \"title\": {\"text\": \"Length of a headline\"}, \"zeroline\": false}, \"yaxis\": {\"anchor\": \"free\", \"domain\": [0.0, 1], \"position\": 0.0, \"title\": {\"text\": \"Probability\"}}},\n",
       "                        {\"responsive\": true}\n",
       "                    ).then(function(){\n",
       "                            \n",
       "var gd = document.getElementById('a1cdefb1-5c69-4d31-b22e-a6e22a1cd61a');\n",
       "var x = new MutationObserver(function (mutations, observer) {{\n",
       "        var display = window.getComputedStyle(gd).display;\n",
       "        if (!display || display === 'none') {{\n",
       "            console.log([gd, 'removed!']);\n",
       "            Plotly.purge(gd);\n",
       "            observer.disconnect();\n",
       "        }}\n",
       "}});\n",
       "\n",
       "// Listen for the removal of the full notebook cells\n",
       "var notebookContainer = gd.closest('#notebook-container');\n",
       "if (notebookContainer) {{\n",
       "    x.observe(notebookContainer, {childList: true});\n",
       "}}\n",
       "\n",
       "// Listen for the clearing of the current output cell\n",
       "var outputEl = gd.closest('.output');\n",
       "if (outputEl) {{\n",
       "    x.observe(outputEl, {childList: true});\n",
       "}}\n",
       "\n",
       "                        })\n",
       "                };\n",
       "                });\n",
       "            </script>\n",
       "        </div>"
      ]
     },
     "metadata": {},
     "output_type": "display_data"
    }
   ],
   "source": [
    "fig = ff.create_distplot([news_articles['headline'].str.len()],\n",
    "                        [\"ht\"],show_hist = False,\n",
    "                        show_rug = False)\n",
    "\n",
    "fig['layout'].update(title = {'text':'PDF',\n",
    "                             'y':0.9,\n",
    "                             'x':0.5,\n",
    "                             \"xanchor\":\"center\",\n",
    "                             \"yanchor\":\"top\"},\n",
    "                    xaxis_title=\"Length of a headline\",\n",
    "                    yaxis_title=\"Probability\")\n",
    "\n",
    "fig.update_layout(showlegend = False,\n",
    "                 width= 500,\n",
    "                 height = 500)\n",
    "\n",
    "fig"
   ]
  },
  {
   "cell_type": "markdown",
   "metadata": {},
   "source": [
    "- The probability distribution function of headline length is almost similar to Gussian Distribution(Normal Distribution),Where most of the headlines are 50 to 80 words long in length"
   ]
  },
  {
   "cell_type": "markdown",
   "metadata": {},
   "source": [
    "### Feature Engineering steps"
   ]
  },
  {
   "cell_type": "markdown",
   "metadata": {},
   "source": [
    "- By Data Preprocessing, We get a subset of orginal dataset which has differen index labels\n",
    "\n",
    "- Let's Make the indices uniform ranging from 0 to total number of articles"
   ]
  },
  {
   "cell_type": "code",
   "execution_count": 105,
   "metadata": {},
   "outputs": [],
   "source": [
    "news_articles.index = range(news_articles.shape[0])"
   ]
  },
  {
   "cell_type": "markdown",
   "metadata": {},
   "source": [
    "- Adding a new column containing both day of week and month, it will be required later while recommending based on day of the week and month"
   ]
  },
  {
   "cell_type": "code",
   "execution_count": 106,
   "metadata": {},
   "outputs": [],
   "source": [
    "news_articles[\"day and month\"] = news_articles[\"date\"].dt.strftime(\"%a\") + \"_\" + news_articles[\"date\"].dt.strftime(\"%b\")\n"
   ]
  },
  {
   "cell_type": "markdown",
   "metadata": {},
   "source": [
    "- Since after Text Preprocessing the Original Headlines will be modified and it Does not make sense to recommend articles by displaying modified headlines so Let's copy the dataset into some other dataset and perform text preprocessing on the Later stage"
   ]
  },
  {
   "cell_type": "code",
   "execution_count": 107,
   "metadata": {},
   "outputs": [],
   "source": [
    "news_articles_temp = news_articles.copy()"
   ]
  },
  {
   "cell_type": "markdown",
   "metadata": {},
   "source": [
    "## Text Preprocessing"
   ]
  },
  {
   "cell_type": "markdown",
   "metadata": {},
   "source": [
    "#### 1. StopWord Removal"
   ]
  },
  {
   "cell_type": "markdown",
   "metadata": {},
   "source": [
    "- Stop Words are not much helpful in analyis and also their inclusion consumes much time during processing so let's remove these stop words"
   ]
  },
  {
   "cell_type": "code",
   "execution_count": 108,
   "metadata": {},
   "outputs": [],
   "source": [
    "stop_words = set(stopwords.words('english'))"
   ]
  },
  {
   "cell_type": "code",
   "execution_count": 109,
   "metadata": {},
   "outputs": [
    {
     "name": "stdout",
     "output_type": "stream",
     "text": [
      "0\n",
      "1000\n",
      "2000\n",
      "3000\n",
      "4000\n",
      "5000\n",
      "6000\n",
      "7000\n",
      "8000\n"
     ]
    }
   ],
   "source": [
    "for i in range(len(news_articles_temp[\"headline\"])):\n",
    "    string = \"\"\n",
    "    for word in news_articles_temp[\"headline\"][i].split():\n",
    "        word = (\"\".join(e for e in word if e.isalnum()))\n",
    "        word = word.lower()\n",
    "        if not word in stop_words:\n",
    "          string += word + \" \"  \n",
    "    if(i%1000==0):\n",
    "      print(i)           # To track number of records processed\n",
    "    news_articles_temp.at[i,\"headline\"] = string.strip()"
   ]
  },
  {
   "cell_type": "markdown",
   "metadata": {},
   "source": [
    "### Lemmatization"
   ]
  },
  {
   "cell_type": "code",
   "execution_count": 110,
   "metadata": {},
   "outputs": [],
   "source": [
    "lemmatizer = WordNetLemmatizer()"
   ]
  },
  {
   "cell_type": "code",
   "execution_count": 111,
   "metadata": {},
   "outputs": [
    {
     "name": "stdout",
     "output_type": "stream",
     "text": [
      "0\n",
      "1000\n",
      "2000\n",
      "3000\n",
      "4000\n",
      "5000\n",
      "6000\n",
      "7000\n",
      "8000\n"
     ]
    }
   ],
   "source": [
    "for i in range(len(news_articles_temp[\"headline\"])):\n",
    "    string = \"\"\n",
    "    for w in word_tokenize(news_articles_temp[\"headline\"][i]):\n",
    "        string += lemmatizer.lemmatize(w,pos = \"v\") + \" \"\n",
    "    news_articles_temp.at[i, \"headline\"] = string.strip()\n",
    "    if(i%1000==0):\n",
    "        print(i)           # To track number of records processed\n"
   ]
  },
  {
   "cell_type": "markdown",
   "metadata": {},
   "source": [
    "## Headline Based Similarity on New Articles"
   ]
  },
  {
   "cell_type": "markdown",
   "metadata": {},
   "source": [
    "- Generally, We assess Similarity based on Distance. If the distance is minimum then higher similarity and if it is maximum then low similarity."
   ]
  },
  {
   "cell_type": "markdown",
   "metadata": {},
   "source": [
    "- To Calculate the distance, we need to represent the headlines as a d-dimensional vector, Then we can find out the similarity based on the distance between vectors."
   ]
  },
  {
   "cell_type": "markdown",
   "metadata": {},
   "source": [
    "- There are Multiple methods to represents a text as d-dimentional vector like Bag of words, TF-IDF method, Word@Vec embedding etc.\n",
    "\n",
    "- Each Method has it's own limits of advantages and disadvantages."
   ]
  },
  {
   "cell_type": "markdown",
   "metadata": {},
   "source": [
    "### Let's Apply all the Methods and Explore"
   ]
  },
  {
   "cell_type": "markdown",
   "metadata": {},
   "source": [
    "#### 1. Using Bag Of Words Method "
   ]
  },
  {
   "cell_type": "markdown",
   "metadata": {},
   "source": [
    "- Bag of Words method represents the occurance of words within a documents.. Here each headline can be consisdered as a documents and set of all headlines from a corpus"
   ]
  },
  {
   "cell_type": "markdown",
   "metadata": {},
   "source": [
    "- Using Bag of Words approach each documents is represented by a d-dimensional vector, where d id total number of unique words in the corpus.The set of such unique words forms the Vocabulary"
   ]
  },
  {
   "cell_type": "code",
   "execution_count": 112,
   "metadata": {},
   "outputs": [],
   "source": [
    "headline_vectorizer = CountVectorizer()\n",
    "headline_features   = headline_vectorizer.fit_transform(news_articles_temp['headline'])\n"
   ]
  },
  {
   "cell_type": "code",
   "execution_count": 113,
   "metadata": {},
   "outputs": [
    {
     "data": {
      "text/plain": [
       "(8485, 11122)"
      ]
     },
     "execution_count": 113,
     "metadata": {},
     "output_type": "execute_result"
    }
   ],
   "source": [
    "headline_features.get_shape()"
   ]
  },
  {
   "cell_type": "markdown",
   "metadata": {},
   "source": [
    "- The output of Bag of Words matrix is a Sparce Matrix"
   ]
  },
  {
   "cell_type": "code",
   "execution_count": 114,
   "metadata": {},
   "outputs": [],
   "source": [
    "pd.set_option('display.max_colwidth', -1)\n",
    "# To Display a very long headline completely"
   ]
  },
  {
   "cell_type": "code",
   "execution_count": 115,
   "metadata": {},
   "outputs": [
    {
     "name": "stdout",
     "output_type": "stream",
     "text": [
      "============================== Queried article details ==============================\n",
      "headline: Woman Fired After Flipping Off Trump's Motorcade Sues Former Employer\n",
      "\n",
      " ========================= Recommended articles: =========================\n"
     ]
    },
    {
     "data": {
      "text/html": [
       "<div>\n",
       "<style scoped>\n",
       "    .dataframe tbody tr th:only-of-type {\n",
       "        vertical-align: middle;\n",
       "    }\n",
       "\n",
       "    .dataframe tbody tr th {\n",
       "        vertical-align: top;\n",
       "    }\n",
       "\n",
       "    .dataframe thead th {\n",
       "        text-align: right;\n",
       "    }\n",
       "</style>\n",
       "<table border=\"1\" class=\"dataframe\">\n",
       "  <thead>\n",
       "    <tr style=\"text-align: right;\">\n",
       "      <th></th>\n",
       "      <th>publish_date</th>\n",
       "      <th>headline</th>\n",
       "      <th>Euclidean similarity with the queried aricle</th>\n",
       "    </tr>\n",
       "  </thead>\n",
       "  <tbody>\n",
       "    <tr>\n",
       "      <th>1</th>\n",
       "      <td>2018-04-02</td>\n",
       "      <td>The Trump Administration Is Suing California Again</td>\n",
       "      <td>2.828427</td>\n",
       "    </tr>\n",
       "    <tr>\n",
       "      <th>2</th>\n",
       "      <td>2018-05-01</td>\n",
       "      <td>Texas Sues Trump Administration To End DACA</td>\n",
       "      <td>3.162278</td>\n",
       "    </tr>\n",
       "    <tr>\n",
       "      <th>3</th>\n",
       "      <td>2018-03-07</td>\n",
       "      <td>Stormy Daniels Suing Trump Over Nondisclosure Agreement</td>\n",
       "      <td>3.162278</td>\n",
       "    </tr>\n",
       "    <tr>\n",
       "      <th>4</th>\n",
       "      <td>2018-04-28</td>\n",
       "      <td>Trump: Mueller Should Never Have Been Appointed</td>\n",
       "      <td>3.162278</td>\n",
       "    </tr>\n",
       "    <tr>\n",
       "      <th>5</th>\n",
       "      <td>2018-04-24</td>\n",
       "      <td>Spanish Woman Looks More Like Trump Than The Donald Himself</td>\n",
       "      <td>3.162278</td>\n",
       "    </tr>\n",
       "    <tr>\n",
       "      <th>6</th>\n",
       "      <td>2018-02-12</td>\n",
       "      <td>What You Should Know About Trump's Nihilist Budget</td>\n",
       "      <td>3.162278</td>\n",
       "    </tr>\n",
       "    <tr>\n",
       "      <th>7</th>\n",
       "      <td>2018-05-09</td>\n",
       "      <td>The Caliphate Of Trump And A Planet In Ruins</td>\n",
       "      <td>3.162278</td>\n",
       "    </tr>\n",
       "    <tr>\n",
       "      <th>8</th>\n",
       "      <td>2018-03-26</td>\n",
       "      <td>Trump Ally Sues Qatar For Hacking His Email</td>\n",
       "      <td>3.162278</td>\n",
       "    </tr>\n",
       "    <tr>\n",
       "      <th>9</th>\n",
       "      <td>2018-02-21</td>\n",
       "      <td>All They Will Call You Will Be Deportees</td>\n",
       "      <td>3.162278</td>\n",
       "    </tr>\n",
       "    <tr>\n",
       "      <th>10</th>\n",
       "      <td>2018-04-11</td>\n",
       "      <td>Pursuing Desegregation In The Trump Era</td>\n",
       "      <td>3.162278</td>\n",
       "    </tr>\n",
       "  </tbody>\n",
       "</table>\n",
       "</div>"
      ],
      "text/plain": [
       "   publish_date                                                     headline  \\\n",
       "1  2018-04-02    The Trump Administration Is Suing California Again            \n",
       "2  2018-05-01    Texas Sues Trump Administration To End DACA                   \n",
       "3  2018-03-07    Stormy Daniels Suing Trump Over Nondisclosure Agreement       \n",
       "4  2018-04-28    Trump: Mueller Should Never Have Been Appointed               \n",
       "5  2018-04-24    Spanish Woman Looks More Like Trump Than The Donald Himself   \n",
       "6  2018-02-12    What You Should Know About Trump's Nihilist Budget            \n",
       "7  2018-05-09    The Caliphate Of Trump And A Planet In Ruins                  \n",
       "8  2018-03-26    Trump Ally Sues Qatar For Hacking His Email                   \n",
       "9  2018-02-21    All They Will Call You Will Be Deportees                      \n",
       "10 2018-04-11    Pursuing Desegregation In The Trump Era                       \n",
       "\n",
       "    Euclidean similarity with the queried aricle  \n",
       "1   2.828427                                      \n",
       "2   3.162278                                      \n",
       "3   3.162278                                      \n",
       "4   3.162278                                      \n",
       "5   3.162278                                      \n",
       "6   3.162278                                      \n",
       "7   3.162278                                      \n",
       "8   3.162278                                      \n",
       "9   3.162278                                      \n",
       "10  3.162278                                      "
      ]
     },
     "execution_count": 115,
     "metadata": {},
     "output_type": "execute_result"
    }
   ],
   "source": [
    "def bag_of_words_based_model(row_index, num_similar_items):\n",
    "    couple_dist = pairwise_distances(headline_features, headline_features[row_index])\n",
    "    indices = np.argsort(couple_dist.ravel())[0:num_similar_items]\n",
    "    df = pd.DataFrame({'publish_date': news_articles['date'][indices].values,\n",
    "                      'headline':news_articles['headline'][indices].values,\n",
    "                      'Euclidean similarity with the queried aricle': couple_dist[indices].ravel()})\n",
    "    print(\"=\"*30,\"Queried article details\",\"=\"*30)\n",
    "    print('headline:', news_articles['headline'][indices[0]])\n",
    "    print('\\n', '='*25,\"Recommended articles:\",\"=\"*25)\n",
    "    return df.iloc[1:,]\n",
    "bag_of_words_based_model(133,11)\n",
    "# We can change the row index for any other queried articles"
   ]
  },
  {
   "cell_type": "markdown",
   "metadata": {},
   "source": [
    "- Above function recommends 10 similar articles to the queried(read) article based on the headline. It accepts two arguments - index of already read artile and the total number of articles to be recommended.\n",
    "\n",
    "- Based on the Euclidean distance it finds out 10 nearest neighbors and recommends.\n",
    "\n",
    "##### Disadvantages\n",
    "\n",
    "1. It gives very low importance to less frequently observed words in the corpus. Few words from the queried article like \"employer\", \"flip\", \"fire\" appear less frequently in the entire corpus so BoW method does not recommend any article whose headline contains these words. Since trump is commonly observed word in the corpus so it is recommending the articles with headline containing \"trump\".\n",
    "2. BoW method doesn't preserve the order of words.\n",
    "\n",
    "\n",
    "\n",
    "- To overcome the first disadvantage we use TF-IDF method for feature representation.\n",
    "\n"
   ]
  },
  {
   "cell_type": "markdown",
   "metadata": {},
   "source": [
    "#### 2. Using TF-IDF Method"
   ]
  },
  {
   "cell_type": "markdown",
   "metadata": {},
   "source": [
    "- TF-IDF method is a weighted measure which gives more importance to less frequent words in a corpus. It assigns a weight to each term(word) in a document based on Term frequency(TF) and inverse document frequency(IDF).\n",
    "\n",
    "- TF(i,j) = (# times word i appears in document j) / (# words in document j)\n",
    "\n",
    "- IDF(i,D) = log_e(#documents in the corpus D) / (#documents containing word i)\n",
    "\n",
    "- weight(i,j) = TF(i,j) x IDF(i,D)\n",
    "\n",
    "- So if a word occurs more number of times in a document but less number of times in all other documents then its TF-IDF value will be high.\n",
    "\n"
   ]
  },
  {
   "cell_type": "code",
   "execution_count": 116,
   "metadata": {},
   "outputs": [],
   "source": [
    "tfidf_headline_vectorizer = TfidfVectorizer(min_df = 0)\n",
    "\n",
    "tfidf_headline_features = tfidf_headline_vectorizer.fit_transform(news_articles_temp['headline'])\n"
   ]
  },
  {
   "cell_type": "code",
   "execution_count": 117,
   "metadata": {},
   "outputs": [
    {
     "name": "stdout",
     "output_type": "stream",
     "text": [
      "============================== Queried article details ==============================\n",
      "headline :  Woman Fired After Flipping Off Trump's Motorcade Sues Former Employer\n",
      "\n",
      " ========================= Recommended articles :  =======================\n"
     ]
    },
    {
     "data": {
      "text/html": [
       "<div>\n",
       "<style scoped>\n",
       "    .dataframe tbody tr th:only-of-type {\n",
       "        vertical-align: middle;\n",
       "    }\n",
       "\n",
       "    .dataframe tbody tr th {\n",
       "        vertical-align: top;\n",
       "    }\n",
       "\n",
       "    .dataframe thead th {\n",
       "        text-align: right;\n",
       "    }\n",
       "</style>\n",
       "<table border=\"1\" class=\"dataframe\">\n",
       "  <thead>\n",
       "    <tr style=\"text-align: right;\">\n",
       "      <th></th>\n",
       "      <th>publish_date</th>\n",
       "      <th>headline</th>\n",
       "      <th>Euclidean similarity with the queried article</th>\n",
       "    </tr>\n",
       "  </thead>\n",
       "  <tbody>\n",
       "    <tr>\n",
       "      <th>1</th>\n",
       "      <td>2018-05-21</td>\n",
       "      <td>The Supreme Court Just Made It A Lot Harder For You To Sue Your Employer</td>\n",
       "      <td>1.164067</td>\n",
       "    </tr>\n",
       "    <tr>\n",
       "      <th>2</th>\n",
       "      <td>2018-04-02</td>\n",
       "      <td>The Trump Administration Is Suing California Again</td>\n",
       "      <td>1.253867</td>\n",
       "    </tr>\n",
       "    <tr>\n",
       "      <th>3</th>\n",
       "      <td>2018-04-10</td>\n",
       "      <td>Lou Dobbs Flips Out On Live TV, Urges Trump To 'Fire The SOB' Robert Mueller</td>\n",
       "      <td>1.258810</td>\n",
       "    </tr>\n",
       "    <tr>\n",
       "      <th>4</th>\n",
       "      <td>2018-04-26</td>\n",
       "      <td>Cardi B's Former Manager Sues Her For $10 Million</td>\n",
       "      <td>1.268704</td>\n",
       "    </tr>\n",
       "    <tr>\n",
       "      <th>5</th>\n",
       "      <td>2018-04-03</td>\n",
       "      <td>A Third Woman Is Suing To Break A Trump-Related Nondisclosure Agreement</td>\n",
       "      <td>1.274264</td>\n",
       "    </tr>\n",
       "    <tr>\n",
       "      <th>6</th>\n",
       "      <td>2018-02-24</td>\n",
       "      <td>Former RNC Chair Fires Back At Claim He Was Only Hired Because He Was Black</td>\n",
       "      <td>1.274847</td>\n",
       "    </tr>\n",
       "    <tr>\n",
       "      <th>7</th>\n",
       "      <td>2018-01-16</td>\n",
       "      <td>State Employer Side Payroll Taxes And Loser Liberalism</td>\n",
       "      <td>1.276696</td>\n",
       "    </tr>\n",
       "    <tr>\n",
       "      <th>8</th>\n",
       "      <td>2018-02-21</td>\n",
       "      <td>Democrats Flip Kentucky State House Seat Where Trump Won Overwhelmingly</td>\n",
       "      <td>1.282008</td>\n",
       "    </tr>\n",
       "    <tr>\n",
       "      <th>9</th>\n",
       "      <td>2018-01-09</td>\n",
       "      <td>Big Tax Game Hunting: Employer Side Payroll Taxes</td>\n",
       "      <td>1.285147</td>\n",
       "    </tr>\n",
       "    <tr>\n",
       "      <th>10</th>\n",
       "      <td>2018-02-28</td>\n",
       "      <td>Democrats Flip 2 More GOP-Held State House Seats</td>\n",
       "      <td>1.287403</td>\n",
       "    </tr>\n",
       "  </tbody>\n",
       "</table>\n",
       "</div>"
      ],
      "text/plain": [
       "   publish_date  \\\n",
       "1  2018-05-21     \n",
       "2  2018-04-02     \n",
       "3  2018-04-10     \n",
       "4  2018-04-26     \n",
       "5  2018-04-03     \n",
       "6  2018-02-24     \n",
       "7  2018-01-16     \n",
       "8  2018-02-21     \n",
       "9  2018-01-09     \n",
       "10 2018-02-28     \n",
       "\n",
       "                                                                        headline  \\\n",
       "1   The Supreme Court Just Made It A Lot Harder For You To Sue Your Employer       \n",
       "2   The Trump Administration Is Suing California Again                             \n",
       "3   Lou Dobbs Flips Out On Live TV, Urges Trump To 'Fire The SOB' Robert Mueller   \n",
       "4   Cardi B's Former Manager Sues Her For $10 Million                              \n",
       "5   A Third Woman Is Suing To Break A Trump-Related Nondisclosure Agreement        \n",
       "6   Former RNC Chair Fires Back At Claim He Was Only Hired Because He Was Black    \n",
       "7   State Employer Side Payroll Taxes And Loser Liberalism                         \n",
       "8   Democrats Flip Kentucky State House Seat Where Trump Won Overwhelmingly        \n",
       "9   Big Tax Game Hunting: Employer Side Payroll Taxes                              \n",
       "10  Democrats Flip 2 More GOP-Held State House Seats                               \n",
       "\n",
       "    Euclidean similarity with the queried article  \n",
       "1   1.164067                                       \n",
       "2   1.253867                                       \n",
       "3   1.258810                                       \n",
       "4   1.268704                                       \n",
       "5   1.274264                                       \n",
       "6   1.274847                                       \n",
       "7   1.276696                                       \n",
       "8   1.282008                                       \n",
       "9   1.285147                                       \n",
       "10  1.287403                                       "
      ]
     },
     "execution_count": 117,
     "metadata": {},
     "output_type": "execute_result"
    }
   ],
   "source": [
    "def tfidf_based_model(row_index, num_similar_items):\n",
    "    couple_dist = pairwise_distances(tfidf_headline_features,tfidf_headline_features[row_index])\n",
    "    indices = np.argsort(couple_dist.ravel())[0:num_similar_items]\n",
    "    df = pd.DataFrame({'publish_date': news_articles['date'][indices].values,\n",
    "               'headline':news_articles['headline'][indices].values,\n",
    "                'Euclidean similarity with the queried article': couple_dist[indices].ravel()})\n",
    "    print(\"=\"*30,\"Queried article details\",\"=\"*30)\n",
    "    print('headline : ',news_articles['headline'][indices[0]])\n",
    "    print(\"\\n\",\"=\"*25,\"Recommended articles : \",\"=\"*23)\n",
    "    \n",
    "    #return df.iloc[1:,1]\n",
    "    return df.iloc[1:,]\n",
    "tfidf_based_model(133, 11)"
   ]
  },
  {
   "cell_type": "markdown",
   "metadata": {},
   "source": [
    "- Compared to BoW method, here TF-IDF method recommends the articles with headline containing words like \"employer\", \"fire\", \"flip\" in top 5 recommendations and these words occur less frequently in the corpus."
   ]
  },
  {
   "cell_type": "markdown",
   "metadata": {},
   "source": [
    "#### - Disadvantages :-\n",
    "\n",
    "- Bow and TF-IDF method do not capture semantic and syntactic similarity of a given word with other words but this can be captured using Word embeddings.\n",
    "\n"
   ]
  },
  {
   "cell_type": "markdown",
   "metadata": {},
   "source": [
    "- For example: there is a good association between words like \"trump\" and \"white house\", \"office and employee\", \"tiger\" and \"leopard\", \"USA\" and \"Washington D.C\" etc. Such kind of semantic similarity can be captured using word embedding techniques. Word embedding techniques like Word2Vec, GloVe and fastText leverage semantic similarity between words.\n",
    "\n"
   ]
  },
  {
   "cell_type": "markdown",
   "metadata": {},
   "source": [
    "#### 3. Using Word2Vec Embedding"
   ]
  },
  {
   "cell_type": "markdown",
   "metadata": {},
   "source": [
    "- Word2Vec is one of the techniques for semantic similarity which was invented by Google in 2013.For a given corpus, during training it observes the patterns and represents each word by a d-dimensional vector. To get better results we need fairly large corpus.\n",
    "\n",
    "- Since our corpus size is small so let's use Google's pretrained model on google news articles. This standard model contains vector representation for billions of words obtained by training on millions of new articles. Here, each word is represented by a 300 Dimensional dense vectors.\n"
   ]
  },
  {
   "cell_type": "code",
   "execution_count": 119,
   "metadata": {},
   "outputs": [],
   "source": [
    "from gensim.models import Word2Vec\n",
    "from gensim.models import keyedvectors\n",
    "import pickle"
   ]
  },
  {
   "cell_type": "markdown",
   "metadata": {},
   "source": [
    "Since this pre-trained Word2Vec model is 1.5 GB in compressed form. So it needs a high end RAM to load it in the memory after unzipping.\n",
    "\n",
    "Here, we are loading this pre-build model from a pickle file which contains this model in advance."
   ]
  },
  {
   "cell_type": "code",
   "execution_count": 120,
   "metadata": {},
   "outputs": [],
   "source": [
    "os.chdir(r'/Users/nadeemm/Desktop/Google_news')"
   ]
  },
  {
   "cell_type": "code",
   "execution_count": 123,
   "metadata": {},
   "outputs": [],
   "source": [
    "!ls"
   ]
  },
  {
   "cell_type": "code",
   "execution_count": null,
   "metadata": {},
   "outputs": [],
   "source": [
    "with open('googlew2v/word2vec_model', 'rb') as file:\n",
    "    loaded_model = pickle.load(file)"
   ]
  },
  {
   "cell_type": "markdown",
   "metadata": {},
   "source": [
    "Since the model gives vector representation for each word but we calculate the distance between headlines so we need to obtain vector representation for each headline. One way to obtain this is by first adding vector representation of all the words available in the headline and then calculating the average. It is also known as average Word2Vec model.\n",
    "\n",
    "Below code cell performs the same."
   ]
  },
  {
   "cell_type": "code",
   "execution_count": null,
   "metadata": {},
   "outputs": [],
   "source": [
    "vocabulary = loaded_model.keys()\n",
    "w2v_headline = []\n",
    "for i in news_articles_temp['headline']:\n",
    "    w2Vec_word = np.zeros(300, dtype=\"float32\")\n",
    "    for word in i.split():\n",
    "        if word in vocabulary:\n",
    "            w2Vec_word = np.add(w2Vec_word, loaded_model[word])\n",
    "    w2Vec_word = np.divide(w2Vec_word, len(i.split()))\n",
    "    w2v_headline.append(w2Vec_word)\n",
    "w2v_headline = np.array(w2v_headline)"
   ]
  },
  {
   "cell_type": "code",
   "execution_count": null,
   "metadata": {},
   "outputs": [],
   "source": [
    "def avg_w2v_based_model(row_index, num_similar_items):\n",
    "    couple_dist = pairwise_distances(w2v_headline, w2v_headline[row_index].reshape(1,-1))\n",
    "    indices = np.argsort(couple_dist.ravel())[0:num_similar_items]\n",
    "    df = pd.DataFrame({'publish_date': news_articles['date'][indices].values,\n",
    "               'headline':news_articles['headline'][indices].values,\n",
    "                'Euclidean similarity with the queried article': couple_dist[indices].ravel()})\n",
    "    print(\"=\"*30,\"Queried article details\",\"=\"*30)\n",
    "    print('headline : ',news_articles['headline'][indices[0]])\n",
    "    print(\"\\n\",\"=\"*25,\"Recommended articles : \",\"=\"*23)\n",
    "    #return df.iloc[1:,1]\n",
    "    return df.iloc[1:,]\n",
    "\n",
    "avg_w2v_based_model(133, 11)\n"
   ]
  },
  {
   "cell_type": "markdown",
   "metadata": {},
   "source": [
    "Here, Word2Vec based representation recommends the headlines containing the word white house which is associated with the word trump in the queried article. Similarly, it recommends the headlines with words like \"offical\", \"insist\" which have semantic similarity to the words \"employer\", \"sue\" in the queried headline.\n",
    "\n",
    "So far we were recommending using only one feature i.e. headline but in order to make a robust recommender system we need to consider multiple features at a time. Based on the business interest and rules, we can decide weight for each feature.\n",
    "\n",
    "Let's see different models with combinations of different features for article similarity."
   ]
  },
  {
   "cell_type": "markdown",
   "metadata": {},
   "source": [
    "#### 4. Weighted similarity based on headline and category"
   ]
  },
  {
   "cell_type": "markdown",
   "metadata": {},
   "source": [
    "Let's first see articles similarity based on headline and category. We are using onehot encoding to get feature representation for category.\n",
    "\n",
    "Sometimes as per the business requirements, we may need to give more preference to the articles from the same category. In such cases we can assign more weight to category while recommending. Higher the weight, more the significance. Similarly less weight leads to less signficance to a particular feature."
   ]
  },
  {
   "cell_type": "code",
   "execution_count": 125,
   "metadata": {},
   "outputs": [],
   "source": [
    "from sklearn.preprocessing import OneHotEncoder \n"
   ]
  },
  {
   "cell_type": "code",
   "execution_count": 126,
   "metadata": {},
   "outputs": [],
   "source": [
    "category_onehot_encoded = OneHotEncoder().fit_transform(np.array(news_articles_temp[\"category\"]).reshape(-1,1))"
   ]
  },
  {
   "cell_type": "code",
   "execution_count": null,
   "metadata": {},
   "outputs": [],
   "source": [
    "def avg_w2v_with_category(row_index, num_similar_items, w1,w2): #headline_preference = True, category_preference = False):\n",
    "    w2v_dist  = pairwise_distances(w2v_headline, w2v_headline[row_index].reshape(1,-1))\n",
    "    category_dist = pairwise_distances(category_onehot_encoded, category_onehot_encoded[row_index]) + 1\n",
    "    weighted_couple_dist   = (w1 * w2v_dist +  w2 * category_dist)/float(w1 + w2)\n",
    "    indices = np.argsort(weighted_couple_dist.flatten())[0:num_similar_items].tolist()\n",
    "    df = pd.DataFrame({'publish_date': news_articles['date'][indices].values,\n",
    "               'headline':news_articles['headline'][indices].values,\n",
    "                'Weighted Euclidean similarity with the queried article': weighted_couple_dist[indices].ravel(),\n",
    "                'Word2Vec based Euclidean similarity': w2v_dist[indices].ravel(),\n",
    "                 'Category based Euclidean similarity': category_dist[indices].ravel(),\n",
    "                'Categoty': news_articles['category'][indices].values})\n",
    "    \n",
    "    print(\"=\"*30,\"Queried article details\",\"=\"*30)\n",
    "    print('headline : ',news_articles['headline'][indices[0]])\n",
    "    print('Categoty : ', news_articles['category'][indices[0]])\n",
    "    print(\"\\n\",\"=\"*25,\"Recommended articles : \",\"=\"*23)\n",
    "    #return df.iloc[1:,[1,5]]\n",
    "    return df.iloc[1:, ]\n",
    "\n",
    "avg_w2v_with_category(528,10,0.1,0.8)\n"
   ]
  },
  {
   "cell_type": "markdown",
   "metadata": {},
   "source": [
    "Here, Word2Vec based representation recommends the headlines containing the word white house which is associated with the word trump in the queried article. Similarly, it recommends the headlines with words like \"offical\", \"insist\" which have semantic similarity to the words \"employer\", \"sue\" in the queried headline.\n",
    "\n",
    "So far we were recommending using only one feature i.e. headline but in order to make a robust recommender system we need to consider multiple features at a time. Based on the business interest and rules, we can decide weight for each feature.\n",
    "\n",
    "Let's see different models with combinations of different features for article similarity."
   ]
  },
  {
   "cell_type": "markdown",
   "metadata": {},
   "source": [
    "#### 5. Weighted similarity based on headline and category"
   ]
  },
  {
   "cell_type": "markdown",
   "metadata": {},
   "source": [
    "Let's first see articles similarity based on headline and category. We are using onehot encoding to get feature representation for category.\n",
    "\n",
    "Sometimes as per the business requirements, we may need to give more preference to the articles from the same category. In such cases we can assign more weight to category while recommending. Higher the weight, more the significance. Similarly less weight leads to less signficance to a particular feature."
   ]
  },
  {
   "cell_type": "code",
   "execution_count": 128,
   "metadata": {},
   "outputs": [],
   "source": [
    "from sklearn.preprocessing import OneHotEncoder "
   ]
  },
  {
   "cell_type": "code",
   "execution_count": 129,
   "metadata": {},
   "outputs": [],
   "source": [
    "category_onehot_encoded = OneHotEncoder().fit_transform(np.array(news_articles_temp[\"category\"]).reshape(-1,1))\n"
   ]
  },
  {
   "cell_type": "code",
   "execution_count": null,
   "metadata": {},
   "outputs": [],
   "source": [
    "def avg_w2v_with_category(row_index, num_similar_items, w1,w2): #headline_preference = True, category_preference = False):\n",
    "    w2v_dist  = pairwise_distances(w2v_headline, w2v_headline[row_index].reshape(1,-1))\n",
    "    category_dist = pairwise_distances(category_onehot_encoded, category_onehot_encoded[row_index]) + 1\n",
    "    weighted_couple_dist   = (w1 * w2v_dist +  w2 * category_dist)/float(w1 + w2)\n",
    "    indices = np.argsort(weighted_couple_dist.flatten())[0:num_similar_items].tolist()\n",
    "    df = pd.DataFrame({'publish_date': news_articles['date'][indices].values,\n",
    "               'headline':news_articles['headline'][indices].values,\n",
    "                'Weighted Euclidean similarity with the queried article': weighted_couple_dist[indices].ravel(),\n",
    "                'Word2Vec based Euclidean similarity': w2v_dist[indices].ravel(),\n",
    "                 'Category based Euclidean similarity': category_dist[indices].ravel(),\n",
    "                'Categoty': news_articles['category'][indices].values})\n",
    "    \n",
    "    print(\"=\"*30,\"Queried article details\",\"=\"*30)\n",
    "    print('headline : ',news_articles['headline'][indices[0]])\n",
    "    print('Categoty : ', news_articles['category'][indices[0]])\n",
    "    print(\"\\n\",\"=\"*25,\"Recommended articles : \",\"=\"*23)\n",
    "    #return df.iloc[1:,[1,5]]\n",
    "    return df.iloc[1:, ]\n",
    "\n",
    "avg_w2v_with_category(528,10,0.1,0.8)\n"
   ]
  },
  {
   "cell_type": "markdown",
   "metadata": {},
   "source": [
    "Above function takes two extra arguments w1 and w2 for weights corresponding to headline and category. It is always a good practice to pass the weights in a range scaled from 0 to 1, where a value close to 1 indicates high weight whereas close to 0 indicates less weight.\n",
    "\n",
    "Here, we can observe that the recommended articles are from the same category as the queried article category. This is due to passing of high value to w2."
   ]
  },
  {
   "cell_type": "markdown",
   "metadata": {},
   "source": [
    "#### 6 .  Weighted similarity based on headline, category and author\n",
    "Now let's see calcualte articles similarity based on author along with headline and category. Again, we are encoding author through onehot encoding."
   ]
  },
  {
   "cell_type": "code",
   "execution_count": 130,
   "metadata": {},
   "outputs": [],
   "source": [
    "authors_onehot_encoded = OneHotEncoder().fit_transform(np.array(news_articles_temp[\"authors\"]).reshape(-1,1))\n"
   ]
  },
  {
   "cell_type": "code",
   "execution_count": null,
   "metadata": {},
   "outputs": [],
   "source": [
    "def avg_w2v_with_category_and_authors(row_index, num_similar_items, w1,w2,w3): #headline_preference = True, category_preference = False):\n",
    "    w2v_dist  = pairwise_distances(w2v_headline, w2v_headline[row_index].reshape(1,-1))\n",
    "    category_dist = pairwise_distances(category_onehot_encoded, category_onehot_encoded[row_index]) + 1\n",
    "    authors_dist = pairwise_distances(authors_onehot_encoded, authors_onehot_encoded[row_index]) + 1\n",
    "    weighted_couple_dist   = (w1 * w2v_dist +  w2 * category_dist + w3 * authors_dist)/float(w1 + w2 + w3)\n",
    "    indices = np.argsort(weighted_couple_dist.flatten())[0:num_similar_items].tolist()\n",
    "    df = pd.DataFrame({'publish_date': news_articles['date'][indices].values,\n",
    "                'headline':news_articles['headline'][indices].values,\n",
    "                'Weighted Euclidean similarity with the queried article': weighted_couple_dist[indices].ravel(),\n",
    "                'Word2Vec based Euclidean similarity': w2v_dist[indices].ravel(),\n",
    "                'Category based Euclidean similarity': category_dist[indices].ravel(),\n",
    "                'Authors based Euclidean similarity': authors_dist[indices].ravel(),       \n",
    "                'Categoty': news_articles['category'][indices].values,\n",
    "                'Authors': news_articles['authors'][indices].values})\n",
    "    print(\"=\"*30,\"Queried article details\",\"=\"*30)\n",
    "    print('headline : ',news_articles['headline'][indices[0]])\n",
    "    print('Categoty : ', news_articles['category'][indices[0]])\n",
    "    print('Authors : ', news_articles['authors'][indices[0]])\n",
    "    print(\"\\n\",\"=\"*25,\"Recommended articles : \",\"=\"*23)\n",
    "    #return df.iloc[1:,[1,6,7]]\n",
    "    return df.iloc[1:, ]\n",
    "\n",
    "\n",
    "avg_w2v_with_category_and_authors(528,10,0.1,0.1,1)"
   ]
  },
  {
   "cell_type": "markdown",
   "metadata": {},
   "source": [
    "Above function takes one extra weight argument w3 for author.\n",
    "\n",
    "In the ouput, we can observe that the recommended articles are from the same author as the queried article author due to high weightage to w3."
   ]
  },
  {
   "cell_type": "markdown",
   "metadata": {},
   "source": [
    "#### Weighted similarity based on headline, category, author and publishing day\n",
    "Now let's see calcualte articles similarity based on the publishing week day author along with headline, category and author. Again, we are encoding this new feature through onehot encoding."
   ]
  },
  {
   "cell_type": "code",
   "execution_count": 132,
   "metadata": {},
   "outputs": [],
   "source": [
    "publishingday_onehot_encoded = OneHotEncoder().fit_transform(np.array(news_articles_temp[\"day and month\"]).reshape(-1,1))"
   ]
  },
  {
   "cell_type": "code",
   "execution_count": null,
   "metadata": {},
   "outputs": [],
   "source": [
    "def avg_w2v_with_category_authors_and_publshing_day(row_index, num_similar_items, w1,w2,w3,w4): #headline_preference = True, category_preference = False):\n",
    "    w2v_dist  = pairwise_distances(w2v_headline, w2v_headline[row_index].reshape(1,-1))\n",
    "    category_dist = pairwise_distances(category_onehot_encoded, category_onehot_encoded[row_index]) + 1\n",
    "    authors_dist = pairwise_distances(authors_onehot_encoded, authors_onehot_encoded[row_index]) + 1\n",
    "    publishingday_dist = pairwise_distances(publishingday_onehot_encoded, publishingday_onehot_encoded[row_index]) + 1\n",
    "    weighted_couple_dist   = (w1 * w2v_dist +  w2 * category_dist + w3 * authors_dist + w4 * publishingday_dist)/float(w1 + w2 + w3 + w4)\n",
    "    indices = np.argsort(weighted_couple_dist.flatten())[0:num_similar_items].tolist()\n",
    "    df = pd.DataFrame({'publish_date': news_articles['date'][indices].values,\n",
    "                'headline_text':news_articles['headline'][indices].values,\n",
    "                'Weighted Euclidean similarity with the queried article': weighted_couple_dist[indices].ravel(),\n",
    "                'Word2Vec based Euclidean similarity': w2v_dist[indices].ravel(),\n",
    "                'Category based Euclidean similarity': category_dist[indices].ravel(),\n",
    "                'Authors based Euclidean similarity': authors_dist[indices].ravel(),   \n",
    "                'Publishing day based Euclidean similarity': publishingday_dist[indices].ravel(), \n",
    "                'Categoty': news_articles['category'][indices].values,\n",
    "                'Authors': news_articles['authors'][indices].values,\n",
    "                'Day and month': news_articles['day and month'][indices].values})\n",
    "    print(\"=\"*30,\"Queried article details\",\"=\"*30)\n",
    "    print('headline : ',news_articles['headline'][indices[0]])\n",
    "    print('Categoty : ', news_articles['category'][indices[0]])\n",
    "    print('Authors : ', news_articles['authors'][indices[0]])\n",
    "    print('Day and month : ', news_articles['day and month'][indices[0]])\n",
    "    print(\"\\n\",\"=\"*25,\"Recommended articles : \",\"=\"*23)\n",
    "    #return df.iloc[1:,[1,7,8,9]]\n",
    "    return df.iloc[1:, ]\n",
    "\n",
    "\n",
    "avg_w2v_with_category_authors_and_publshing_day(528,10,0.1,0.1,0.1,1)"
   ]
  },
  {
   "cell_type": "markdown",
   "metadata": {},
   "source": [
    "Above function takes one extra weight argument w4 for day of the week and month.\n",
    "\n",
    "In the ouput, we can observe that the recommended articles are from the same day of the week and month as the queried article due to high weightage to w4."
   ]
  },
  {
   "cell_type": "code",
   "execution_count": null,
   "metadata": {},
   "outputs": [],
   "source": []
  },
  {
   "cell_type": "code",
   "execution_count": null,
   "metadata": {},
   "outputs": [],
   "source": []
  }
 ],
 "metadata": {
  "kernelspec": {
   "display_name": "Python 3",
   "language": "python",
   "name": "python3"
  },
  "language_info": {
   "codemirror_mode": {
    "name": "ipython",
    "version": 3
   },
   "file_extension": ".py",
   "mimetype": "text/x-python",
   "name": "python",
   "nbconvert_exporter": "python",
   "pygments_lexer": "ipython3",
   "version": "3.7.6"
  }
 },
 "nbformat": 4,
 "nbformat_minor": 4
}
